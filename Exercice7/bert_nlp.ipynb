{
 "cells": [
  {
   "cell_type": "markdown",
   "id": "56b43fa9",
   "metadata": {},
   "source": [
    "## Exercice 7 : Introduction a BERT pour le NLP"
   ]
  },
  {
   "cell_type": "code",
   "execution_count": 4,
   "id": "3ac4c8b6",
   "metadata": {},
   "outputs": [
    {
     "name": "stdout",
     "output_type": "stream",
     "text": [
      "************************************************************************************************************************\n",
      "Exercice 7 : Introduction a BERT pour le NLP\n",
      "************************************************************************************************************************\n"
     ]
    }
   ],
   "source": [
    "print(\"*\" * 120)\n",
    "print(\"Exercice 7 : Introduction a BERT pour le NLP\")\n",
    "print(\"*\" * 120)"
   ]
  },
  {
   "cell_type": "code",
   "execution_count": null,
   "id": "b115e3f0",
   "metadata": {},
   "outputs": [],
   "source": [
    "# Installation de transformers\n",
    "%pip install transformers torch"
   ]
  }
 ],
 "metadata": {
  "kernelspec": {
   "display_name": "env",
   "language": "python",
   "name": "python3"
  },
  "language_info": {
   "codemirror_mode": {
    "name": "ipython",
    "version": 3
   },
   "file_extension": ".py",
   "mimetype": "text/x-python",
   "name": "python",
   "nbconvert_exporter": "python",
   "pygments_lexer": "ipython3",
   "version": "3.12.3"
  }
 },
 "nbformat": 4,
 "nbformat_minor": 5
}
