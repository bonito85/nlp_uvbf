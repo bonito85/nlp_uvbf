{
 "cells": [
  {
   "cell_type": "markdown",
   "id": "56b43fa9",
   "metadata": {},
   "source": [
    "## Exercice 7 : Introduction a BERT pour le NLP"
   ]
  },
  {
   "cell_type": "code",
   "execution_count": 4,
   "id": "3ac4c8b6",
   "metadata": {},
   "outputs": [
    {
     "name": "stdout",
     "output_type": "stream",
     "text": [
      "************************************************************************************************************************\n",
      "Exercice 7 : Introduction a BERT pour le NLP\n",
      "************************************************************************************************************************\n"
     ]
    }
   ],
   "source": [
    "print(\"*\" * 120)\n",
    "print(\"Exercice 7 : Introduction a BERT pour le NLP\")\n",
    "print(\"*\" * 120)"
   ]
  },
  {
   "cell_type": "code",
   "execution_count": 2,
   "id": "b115e3f0",
   "metadata": {},
   "outputs": [
    {
     "name": "stdout",
     "output_type": "stream",
     "text": [
      "Collecting transformers\n",
      "  Using cached transformers-4.56.1-py3-none-any.whl.metadata (42 kB)\n",
      "Collecting filelock (from transformers)\n",
      "  Using cached filelock-3.19.1-py3-none-any.whl.metadata (2.1 kB)\n",
      "Collecting huggingface-hub<1.0,>=0.34.0 (from transformers)\n",
      "  Using cached huggingface_hub-0.34.4-py3-none-any.whl.metadata (14 kB)\n",
      "Requirement already satisfied: numpy>=1.17 in /home/good-boy/CoursLicence3/CoursNLP/projets/WebScraping/TPs/code_tps/env/lib/python3.12/site-packages (from transformers) (2.3.2)\n",
      "Requirement already satisfied: packaging>=20.0 in /home/good-boy/CoursLicence3/CoursNLP/projets/WebScraping/TPs/code_tps/env/lib/python3.12/site-packages (from transformers) (25.0)\n",
      "Collecting pyyaml>=5.1 (from transformers)\n",
      "  Using cached PyYAML-6.0.2-cp312-cp312-manylinux_2_17_x86_64.manylinux2014_x86_64.whl.metadata (2.1 kB)\n",
      "Requirement already satisfied: regex!=2019.12.17 in /home/good-boy/CoursLicence3/CoursNLP/projets/WebScraping/TPs/code_tps/env/lib/python3.12/site-packages (from transformers) (2025.7.34)\n",
      "Requirement already satisfied: requests in /home/good-boy/CoursLicence3/CoursNLP/projets/WebScraping/TPs/code_tps/env/lib/python3.12/site-packages (from transformers) (2.32.5)\n",
      "Collecting tokenizers<=0.23.0,>=0.22.0 (from transformers)\n",
      "  Using cached tokenizers-0.22.0-cp39-abi3-manylinux_2_17_x86_64.manylinux2014_x86_64.whl.metadata (6.8 kB)\n",
      "Collecting safetensors>=0.4.3 (from transformers)\n",
      "  Using cached safetensors-0.6.2-cp38-abi3-manylinux_2_17_x86_64.manylinux2014_x86_64.whl.metadata (4.1 kB)\n",
      "Requirement already satisfied: tqdm>=4.27 in /home/good-boy/CoursLicence3/CoursNLP/projets/WebScraping/TPs/code_tps/env/lib/python3.12/site-packages (from transformers) (4.67.1)\n",
      "Collecting fsspec>=2023.5.0 (from huggingface-hub<1.0,>=0.34.0->transformers)\n",
      "  Using cached fsspec-2025.9.0-py3-none-any.whl.metadata (10 kB)\n",
      "Requirement already satisfied: typing-extensions>=3.7.4.3 in /home/good-boy/CoursLicence3/CoursNLP/projets/WebScraping/TPs/code_tps/env/lib/python3.12/site-packages (from huggingface-hub<1.0,>=0.34.0->transformers) (4.15.0)\n",
      "Collecting hf-xet<2.0.0,>=1.1.3 (from huggingface-hub<1.0,>=0.34.0->transformers)\n",
      "  Using cached hf_xet-1.1.9-cp37-abi3-manylinux_2_17_x86_64.manylinux2014_x86_64.whl.metadata (4.7 kB)\n",
      "Requirement already satisfied: charset_normalizer<4,>=2 in /home/good-boy/CoursLicence3/CoursNLP/projets/WebScraping/TPs/code_tps/env/lib/python3.12/site-packages (from requests->transformers) (3.4.3)\n",
      "Requirement already satisfied: idna<4,>=2.5 in /home/good-boy/CoursLicence3/CoursNLP/projets/WebScraping/TPs/code_tps/env/lib/python3.12/site-packages (from requests->transformers) (3.10)\n",
      "Requirement already satisfied: urllib3<3,>=1.21.1 in /home/good-boy/CoursLicence3/CoursNLP/projets/WebScraping/TPs/code_tps/env/lib/python3.12/site-packages (from requests->transformers) (2.5.0)\n",
      "Requirement already satisfied: certifi>=2017.4.17 in /home/good-boy/CoursLicence3/CoursNLP/projets/WebScraping/TPs/code_tps/env/lib/python3.12/site-packages (from requests->transformers) (2025.8.3)\n",
      "Using cached transformers-4.56.1-py3-none-any.whl (11.6 MB)\n",
      "Downloading huggingface_hub-0.34.4-py3-none-any.whl (561 kB)\n",
      "\u001b[2K   \u001b[90m━━━━━━━━━━━━━━━━━━━━━━━━━━━━━━━━━━━━━━━━\u001b[0m \u001b[32m561.5/561.5 kB\u001b[0m \u001b[31m84.3 kB/s\u001b[0m eta \u001b[36m0:00:00\u001b[0ma \u001b[36m0:00:01\u001b[0m\n",
      "\u001b[?25hUsing cached PyYAML-6.0.2-cp312-cp312-manylinux_2_17_x86_64.manylinux2014_x86_64.whl (767 kB)\n",
      "Downloading safetensors-0.6.2-cp38-abi3-manylinux_2_17_x86_64.manylinux2014_x86_64.whl (485 kB)\n",
      "\u001b[2K   \u001b[90m━━━━━━━━━━━━━━━━━━━━━━━━━━━━━━━━━━━━━━━\u001b[0m \u001b[32m485.8/485.8 kB\u001b[0m \u001b[31m322.7 kB/s\u001b[0m eta \u001b[36m0:00:00\u001b[0m00:01\u001b[0m00:01\u001b[0m\n",
      "\u001b[?25hDownloading tokenizers-0.22.0-cp39-abi3-manylinux_2_17_x86_64.manylinux2014_x86_64.whl (3.3 MB)\n",
      "\u001b[2K   \u001b[90m━━━━━━━━━━━━━━━━━━━━━━━━━━━━━━━━━━━━━━━━\u001b[0m \u001b[32m3.3/3.3 MB\u001b[0m \u001b[31m556.2 kB/s\u001b[0m eta \u001b[36m0:00:00\u001b[0m00:01\u001b[0m00:01\u001b[0m\n",
      "\u001b[?25hDownloading filelock-3.19.1-py3-none-any.whl (15 kB)\n",
      "Downloading fsspec-2025.9.0-py3-none-any.whl (199 kB)\n",
      "\u001b[2K   \u001b[90m━━━━━━━━━━━━━━━━━━━━━━━━━━━━━━━━━━━━━━━\u001b[0m \u001b[32m199.3/199.3 kB\u001b[0m \u001b[31m794.0 kB/s\u001b[0m eta \u001b[36m0:00:00\u001b[0ma \u001b[36m0:00:01\u001b[0m\n",
      "\u001b[?25hDownloading hf_xet-1.1.9-cp37-abi3-manylinux_2_17_x86_64.manylinux2014_x86_64.whl (3.2 MB)\n",
      "\u001b[2K   \u001b[90m━━━━━━━━━━━━━━━━━━━━━━━━━━━━━━━━━━━━━━━━\u001b[0m \u001b[32m3.2/3.2 MB\u001b[0m \u001b[31m791.9 kB/s\u001b[0m eta \u001b[36m0:00:00\u001b[0m00:01\u001b[0m00:01\u001b[0m\n",
      "\u001b[?25hInstalling collected packages: safetensors, pyyaml, hf-xet, fsspec, filelock, huggingface-hub, tokenizers, transformers\n",
      "Successfully installed filelock-3.19.1 fsspec-2025.9.0 hf-xet-1.1.9 huggingface-hub-0.34.4 pyyaml-6.0.2 safetensors-0.6.2 tokenizers-0.22.0 transformers-4.56.1\n",
      "Note: you may need to restart the kernel to use updated packages.\n"
     ]
    }
   ],
   "source": [
    "# Installation de transformers\n",
    "%pip install transformers"
   ]
  },
  {
   "cell_type": "code",
   "execution_count": 22,
   "id": "b6f82458",
   "metadata": {},
   "outputs": [
    {
     "name": "stdout",
     "output_type": "stream",
     "text": [
      "Collecting torch\n",
      "  Using cached torch-2.8.0-cp312-cp312-manylinux_2_28_x86_64.whl.metadata (30 kB)\n",
      "Requirement already satisfied: filelock in /home/good-boy/CoursLicence3/CoursNLP/projets/WebScraping/TPs/code_tps/env/lib/python3.12/site-packages (from torch) (3.19.1)\n",
      "Requirement already satisfied: typing-extensions>=4.10.0 in /home/good-boy/CoursLicence3/CoursNLP/projets/WebScraping/TPs/code_tps/env/lib/python3.12/site-packages (from torch) (4.15.0)\n",
      "Requirement already satisfied: setuptools in /home/good-boy/CoursLicence3/CoursNLP/projets/WebScraping/TPs/code_tps/env/lib/python3.12/site-packages (from torch) (80.9.0)\n",
      "Collecting sympy>=1.13.3 (from torch)\n",
      "  Using cached sympy-1.14.0-py3-none-any.whl.metadata (12 kB)\n",
      "Requirement already satisfied: networkx in /home/good-boy/CoursLicence3/CoursNLP/projets/WebScraping/TPs/code_tps/env/lib/python3.12/site-packages (from torch) (3.5)\n",
      "Requirement already satisfied: jinja2 in /home/good-boy/CoursLicence3/CoursNLP/projets/WebScraping/TPs/code_tps/env/lib/python3.12/site-packages (from torch) (3.1.6)\n",
      "Requirement already satisfied: fsspec in /home/good-boy/CoursLicence3/CoursNLP/projets/WebScraping/TPs/code_tps/env/lib/python3.12/site-packages (from torch) (2025.3.0)\n",
      "Collecting nvidia-cuda-nvrtc-cu12==12.8.93 (from torch)\n",
      "  Using cached nvidia_cuda_nvrtc_cu12-12.8.93-py3-none-manylinux2010_x86_64.manylinux_2_12_x86_64.whl.metadata (1.7 kB)\n",
      "Collecting nvidia-cuda-runtime-cu12==12.8.90 (from torch)\n",
      "  Using cached nvidia_cuda_runtime_cu12-12.8.90-py3-none-manylinux2014_x86_64.manylinux_2_17_x86_64.whl.metadata (1.7 kB)\n",
      "Collecting nvidia-cuda-cupti-cu12==12.8.90 (from torch)\n",
      "  Using cached nvidia_cuda_cupti_cu12-12.8.90-py3-none-manylinux2014_x86_64.manylinux_2_17_x86_64.whl.metadata (1.7 kB)\n",
      "Collecting nvidia-cudnn-cu12==9.10.2.21 (from torch)\n",
      "  Using cached nvidia_cudnn_cu12-9.10.2.21-py3-none-manylinux_2_27_x86_64.whl.metadata (1.8 kB)\n",
      "Collecting nvidia-cublas-cu12==12.8.4.1 (from torch)\n",
      "  Using cached nvidia_cublas_cu12-12.8.4.1-py3-none-manylinux_2_27_x86_64.whl.metadata (1.7 kB)\n",
      "Collecting nvidia-cufft-cu12==11.3.3.83 (from torch)\n",
      "  Using cached nvidia_cufft_cu12-11.3.3.83-py3-none-manylinux2014_x86_64.manylinux_2_17_x86_64.whl.metadata (1.7 kB)\n",
      "Collecting nvidia-curand-cu12==10.3.9.90 (from torch)\n",
      "  Using cached nvidia_curand_cu12-10.3.9.90-py3-none-manylinux_2_27_x86_64.whl.metadata (1.7 kB)\n",
      "Collecting nvidia-cusolver-cu12==11.7.3.90 (from torch)\n",
      "  Using cached nvidia_cusolver_cu12-11.7.3.90-py3-none-manylinux_2_27_x86_64.whl.metadata (1.8 kB)\n",
      "Collecting nvidia-cusparse-cu12==12.5.8.93 (from torch)\n",
      "  Using cached nvidia_cusparse_cu12-12.5.8.93-py3-none-manylinux2014_x86_64.manylinux_2_17_x86_64.whl.metadata (1.8 kB)\n",
      "Collecting nvidia-cusparselt-cu12==0.7.1 (from torch)\n",
      "  Using cached nvidia_cusparselt_cu12-0.7.1-py3-none-manylinux2014_x86_64.whl.metadata (7.0 kB)\n",
      "Collecting nvidia-nccl-cu12==2.27.3 (from torch)\n",
      "  Using cached nvidia_nccl_cu12-2.27.3-py3-none-manylinux2014_x86_64.manylinux_2_17_x86_64.whl.metadata (2.0 kB)\n",
      "Collecting nvidia-nvtx-cu12==12.8.90 (from torch)\n",
      "  Using cached nvidia_nvtx_cu12-12.8.90-py3-none-manylinux2014_x86_64.manylinux_2_17_x86_64.whl.metadata (1.8 kB)\n",
      "Collecting nvidia-nvjitlink-cu12==12.8.93 (from torch)\n",
      "  Using cached nvidia_nvjitlink_cu12-12.8.93-py3-none-manylinux2010_x86_64.manylinux_2_12_x86_64.whl.metadata (1.7 kB)\n",
      "Collecting nvidia-cufile-cu12==1.13.1.3 (from torch)\n",
      "  Using cached nvidia_cufile_cu12-1.13.1.3-py3-none-manylinux2014_x86_64.manylinux_2_17_x86_64.whl.metadata (1.7 kB)\n",
      "Collecting triton==3.4.0 (from torch)\n",
      "  Using cached triton-3.4.0-cp312-cp312-manylinux_2_27_x86_64.manylinux_2_28_x86_64.whl.metadata (1.7 kB)\n",
      "Collecting mpmath<1.4,>=1.1.0 (from sympy>=1.13.3->torch)\n",
      "  Using cached mpmath-1.3.0-py3-none-any.whl.metadata (8.6 kB)\n",
      "Requirement already satisfied: MarkupSafe>=2.0 in /home/good-boy/CoursLicence3/CoursNLP/projets/WebScraping/TPs/code_tps/env/lib/python3.12/site-packages (from jinja2->torch) (3.0.2)\n",
      "Using cached torch-2.8.0-cp312-cp312-manylinux_2_28_x86_64.whl (887.9 MB)\n",
      "Using cached nvidia_cublas_cu12-12.8.4.1-py3-none-manylinux_2_27_x86_64.whl (594.3 MB)\n",
      "Using cached nvidia_cuda_cupti_cu12-12.8.90-py3-none-manylinux2014_x86_64.manylinux_2_17_x86_64.whl (10.2 MB)\n",
      "Using cached nvidia_cuda_nvrtc_cu12-12.8.93-py3-none-manylinux2010_x86_64.manylinux_2_12_x86_64.whl (88.0 MB)\n",
      "Using cached nvidia_cuda_runtime_cu12-12.8.90-py3-none-manylinux2014_x86_64.manylinux_2_17_x86_64.whl (954 kB)\n",
      "Using cached nvidia_cudnn_cu12-9.10.2.21-py3-none-manylinux_2_27_x86_64.whl (706.8 MB)\n",
      "Using cached nvidia_cufft_cu12-11.3.3.83-py3-none-manylinux2014_x86_64.manylinux_2_17_x86_64.whl (193.1 MB)\n",
      "Using cached nvidia_cufile_cu12-1.13.1.3-py3-none-manylinux2014_x86_64.manylinux_2_17_x86_64.whl (1.2 MB)\n",
      "Using cached nvidia_curand_cu12-10.3.9.90-py3-none-manylinux_2_27_x86_64.whl (63.6 MB)\n",
      "Downloading nvidia_cusolver_cu12-11.7.3.90-py3-none-manylinux_2_27_x86_64.whl (267.5 MB)\n",
      "\u001b[2K   \u001b[90m━━━━━━━━━━━━━━━━━━━━━━━━━━━━━━━━━━━━━━━\u001b[0m \u001b[32m267.5/267.5 MB\u001b[0m \u001b[31m737.7 kB/s\u001b[0m eta \u001b[36m0:00:00\u001b[0m0:01\u001b[0m00:07\u001b[0mm\n",
      "\u001b[?25hDownloading nvidia_cusparse_cu12-12.5.8.93-py3-none-manylinux2014_x86_64.manylinux_2_17_x86_64.whl (288.2 MB)\n",
      "\u001b[2K   \u001b[91m━━━━━━━━━━━━━━━━━━━━━━━━━━━━━\u001b[0m\u001b[91m╸\u001b[0m\u001b[90m━━━━━━━━━\u001b[0m \u001b[32m219.6/288.2 MB\u001b[0m \u001b[31m278.4 kB/s\u001b[0m eta \u001b[36m0:04:07\u001b[0m\n",
      "\u001b[?25h\u001b[31mERROR: Exception:\n",
      "Traceback (most recent call last):\n",
      "  File \"/home/good-boy/CoursLicence3/CoursNLP/projets/WebScraping/TPs/code_tps/env/lib/python3.12/site-packages/pip/_vendor/urllib3/response.py\", line 438, in _error_catcher\n",
      "    yield\n",
      "  File \"/home/good-boy/CoursLicence3/CoursNLP/projets/WebScraping/TPs/code_tps/env/lib/python3.12/site-packages/pip/_vendor/urllib3/response.py\", line 561, in read\n",
      "    data = self._fp_read(amt) if not fp_closed else b\"\"\n",
      "           ^^^^^^^^^^^^^^^^^^\n",
      "  File \"/home/good-boy/CoursLicence3/CoursNLP/projets/WebScraping/TPs/code_tps/env/lib/python3.12/site-packages/pip/_vendor/urllib3/response.py\", line 527, in _fp_read\n",
      "    return self._fp.read(amt) if amt is not None else self._fp.read()\n",
      "           ^^^^^^^^^^^^^^^^^^\n",
      "  File \"/home/good-boy/CoursLicence3/CoursNLP/projets/WebScraping/TPs/code_tps/env/lib/python3.12/site-packages/pip/_vendor/cachecontrol/filewrapper.py\", line 98, in read\n",
      "    data: bytes = self.__fp.read(amt)\n",
      "                  ^^^^^^^^^^^^^^^^^^^\n",
      "  File \"/usr/lib/python3.12/http/client.py\", line 479, in read\n",
      "    s = self.fp.read(amt)\n",
      "        ^^^^^^^^^^^^^^^^^\n",
      "  File \"/usr/lib/python3.12/socket.py\", line 707, in readinto\n",
      "    return self._sock.recv_into(b)\n",
      "           ^^^^^^^^^^^^^^^^^^^^^^^\n",
      "  File \"/usr/lib/python3.12/ssl.py\", line 1252, in recv_into\n",
      "    return self.read(nbytes, buffer)\n",
      "           ^^^^^^^^^^^^^^^^^^^^^^^^^\n",
      "  File \"/usr/lib/python3.12/ssl.py\", line 1104, in read\n",
      "    return self._sslobj.read(len, buffer)\n",
      "           ^^^^^^^^^^^^^^^^^^^^^^^^^^^^^^\n",
      "TimeoutError: The read operation timed out\n",
      "\n",
      "During handling of the above exception, another exception occurred:\n",
      "\n",
      "Traceback (most recent call last):\n",
      "  File \"/home/good-boy/CoursLicence3/CoursNLP/projets/WebScraping/TPs/code_tps/env/lib/python3.12/site-packages/pip/_internal/cli/base_command.py\", line 180, in exc_logging_wrapper\n",
      "    status = run_func(*args)\n",
      "             ^^^^^^^^^^^^^^^\n",
      "  File \"/home/good-boy/CoursLicence3/CoursNLP/projets/WebScraping/TPs/code_tps/env/lib/python3.12/site-packages/pip/_internal/cli/req_command.py\", line 245, in wrapper\n",
      "    return func(self, options, args)\n",
      "           ^^^^^^^^^^^^^^^^^^^^^^^^^\n",
      "  File \"/home/good-boy/CoursLicence3/CoursNLP/projets/WebScraping/TPs/code_tps/env/lib/python3.12/site-packages/pip/_internal/commands/install.py\", line 377, in run\n",
      "    requirement_set = resolver.resolve(\n",
      "                      ^^^^^^^^^^^^^^^^^\n",
      "  File \"/home/good-boy/CoursLicence3/CoursNLP/projets/WebScraping/TPs/code_tps/env/lib/python3.12/site-packages/pip/_internal/resolution/resolvelib/resolver.py\", line 179, in resolve\n",
      "    self.factory.preparer.prepare_linked_requirements_more(reqs)\n",
      "  File \"/home/good-boy/CoursLicence3/CoursNLP/projets/WebScraping/TPs/code_tps/env/lib/python3.12/site-packages/pip/_internal/operations/prepare.py\", line 552, in prepare_linked_requirements_more\n",
      "    self._complete_partial_requirements(\n",
      "  File \"/home/good-boy/CoursLicence3/CoursNLP/projets/WebScraping/TPs/code_tps/env/lib/python3.12/site-packages/pip/_internal/operations/prepare.py\", line 467, in _complete_partial_requirements\n",
      "    for link, (filepath, _) in batch_download:\n",
      "  File \"/home/good-boy/CoursLicence3/CoursNLP/projets/WebScraping/TPs/code_tps/env/lib/python3.12/site-packages/pip/_internal/network/download.py\", line 183, in __call__\n",
      "    for chunk in chunks:\n",
      "  File \"/home/good-boy/CoursLicence3/CoursNLP/projets/WebScraping/TPs/code_tps/env/lib/python3.12/site-packages/pip/_internal/cli/progress_bars.py\", line 53, in _rich_progress_bar\n",
      "    for chunk in iterable:\n",
      "  File \"/home/good-boy/CoursLicence3/CoursNLP/projets/WebScraping/TPs/code_tps/env/lib/python3.12/site-packages/pip/_internal/network/utils.py\", line 63, in response_chunks\n",
      "    for chunk in response.raw.stream(\n",
      "  File \"/home/good-boy/CoursLicence3/CoursNLP/projets/WebScraping/TPs/code_tps/env/lib/python3.12/site-packages/pip/_vendor/urllib3/response.py\", line 622, in stream\n",
      "    data = self.read(amt=amt, decode_content=decode_content)\n",
      "           ^^^^^^^^^^^^^^^^^^^^^^^^^^^^^^^^^^^^^^^^^^^^^^^^^\n",
      "  File \"/home/good-boy/CoursLicence3/CoursNLP/projets/WebScraping/TPs/code_tps/env/lib/python3.12/site-packages/pip/_vendor/urllib3/response.py\", line 560, in read\n",
      "    with self._error_catcher():\n",
      "  File \"/usr/lib/python3.12/contextlib.py\", line 158, in __exit__\n",
      "    self.gen.throw(value)\n",
      "  File \"/home/good-boy/CoursLicence3/CoursNLP/projets/WebScraping/TPs/code_tps/env/lib/python3.12/site-packages/pip/_vendor/urllib3/response.py\", line 443, in _error_catcher\n",
      "    raise ReadTimeoutError(self._pool, None, \"Read timed out.\")\n",
      "pip._vendor.urllib3.exceptions.ReadTimeoutError: HTTPSConnectionPool(host='files.pythonhosted.org', port=443): Read timed out.\u001b[0m\u001b[31m\n",
      "\u001b[0mNote: you may need to restart the kernel to use updated packages.\n"
     ]
    }
   ],
   "source": [
    "%pip install torch # permet de faire du deep learning avec des GPU"
   ]
  },
  {
   "cell_type": "code",
   "execution_count": 2,
   "id": "75a8ad60",
   "metadata": {},
   "outputs": [
    {
     "name": "stdout",
     "output_type": "stream",
     "text": [
      "Collecting datasets\n",
      "  Downloading datasets-4.0.0-py3-none-any.whl.metadata (19 kB)\n",
      "Requirement already satisfied: filelock in /home/good-boy/CoursLicence3/CoursNLP/projets/WebScraping/TPs/code_tps/env/lib/python3.12/site-packages (from datasets) (3.19.1)\n",
      "Requirement already satisfied: numpy>=1.17 in /home/good-boy/CoursLicence3/CoursNLP/projets/WebScraping/TPs/code_tps/env/lib/python3.12/site-packages (from datasets) (2.3.2)\n",
      "Collecting pyarrow>=15.0.0 (from datasets)\n",
      "  Downloading pyarrow-21.0.0-cp312-cp312-manylinux_2_28_x86_64.whl.metadata (3.3 kB)\n",
      "Collecting dill<0.3.9,>=0.3.0 (from datasets)\n",
      "  Downloading dill-0.3.8-py3-none-any.whl.metadata (10 kB)\n",
      "Requirement already satisfied: pandas in /home/good-boy/CoursLicence3/CoursNLP/projets/WebScraping/TPs/code_tps/env/lib/python3.12/site-packages (from datasets) (2.3.2)\n",
      "Requirement already satisfied: requests>=2.32.2 in /home/good-boy/CoursLicence3/CoursNLP/projets/WebScraping/TPs/code_tps/env/lib/python3.12/site-packages (from datasets) (2.32.5)\n",
      "Requirement already satisfied: tqdm>=4.66.3 in /home/good-boy/CoursLicence3/CoursNLP/projets/WebScraping/TPs/code_tps/env/lib/python3.12/site-packages (from datasets) (4.67.1)\n",
      "Collecting xxhash (from datasets)\n",
      "  Downloading xxhash-3.5.0-cp312-cp312-manylinux_2_17_x86_64.manylinux2014_x86_64.whl.metadata (12 kB)\n",
      "Collecting multiprocess<0.70.17 (from datasets)\n",
      "  Downloading multiprocess-0.70.16-py312-none-any.whl.metadata (7.2 kB)\n",
      "Collecting fsspec<=2025.3.0,>=2023.1.0 (from fsspec[http]<=2025.3.0,>=2023.1.0->datasets)\n",
      "  Downloading fsspec-2025.3.0-py3-none-any.whl.metadata (11 kB)\n",
      "Requirement already satisfied: huggingface-hub>=0.24.0 in /home/good-boy/CoursLicence3/CoursNLP/projets/WebScraping/TPs/code_tps/env/lib/python3.12/site-packages (from datasets) (0.34.4)\n",
      "Requirement already satisfied: packaging in /home/good-boy/CoursLicence3/CoursNLP/projets/WebScraping/TPs/code_tps/env/lib/python3.12/site-packages (from datasets) (25.0)\n",
      "Requirement already satisfied: pyyaml>=5.1 in /home/good-boy/CoursLicence3/CoursNLP/projets/WebScraping/TPs/code_tps/env/lib/python3.12/site-packages (from datasets) (6.0.2)\n",
      "Collecting aiohttp!=4.0.0a0,!=4.0.0a1 (from fsspec[http]<=2025.3.0,>=2023.1.0->datasets)\n",
      "  Downloading aiohttp-3.12.15-cp312-cp312-manylinux_2_17_x86_64.manylinux2014_x86_64.whl.metadata (7.7 kB)\n",
      "Requirement already satisfied: typing-extensions>=3.7.4.3 in /home/good-boy/CoursLicence3/CoursNLP/projets/WebScraping/TPs/code_tps/env/lib/python3.12/site-packages (from huggingface-hub>=0.24.0->datasets) (4.15.0)\n",
      "Requirement already satisfied: hf-xet<2.0.0,>=1.1.3 in /home/good-boy/CoursLicence3/CoursNLP/projets/WebScraping/TPs/code_tps/env/lib/python3.12/site-packages (from huggingface-hub>=0.24.0->datasets) (1.1.9)\n",
      "Requirement already satisfied: charset_normalizer<4,>=2 in /home/good-boy/CoursLicence3/CoursNLP/projets/WebScraping/TPs/code_tps/env/lib/python3.12/site-packages (from requests>=2.32.2->datasets) (3.4.3)\n",
      "Requirement already satisfied: idna<4,>=2.5 in /home/good-boy/CoursLicence3/CoursNLP/projets/WebScraping/TPs/code_tps/env/lib/python3.12/site-packages (from requests>=2.32.2->datasets) (3.10)\n",
      "Requirement already satisfied: urllib3<3,>=1.21.1 in /home/good-boy/CoursLicence3/CoursNLP/projets/WebScraping/TPs/code_tps/env/lib/python3.12/site-packages (from requests>=2.32.2->datasets) (2.5.0)\n",
      "Requirement already satisfied: certifi>=2017.4.17 in /home/good-boy/CoursLicence3/CoursNLP/projets/WebScraping/TPs/code_tps/env/lib/python3.12/site-packages (from requests>=2.32.2->datasets) (2025.8.3)\n",
      "Requirement already satisfied: python-dateutil>=2.8.2 in /home/good-boy/CoursLicence3/CoursNLP/projets/WebScraping/TPs/code_tps/env/lib/python3.12/site-packages (from pandas->datasets) (2.9.0.post0)\n",
      "Requirement already satisfied: pytz>=2020.1 in /home/good-boy/CoursLicence3/CoursNLP/projets/WebScraping/TPs/code_tps/env/lib/python3.12/site-packages (from pandas->datasets) (2025.2)\n",
      "Requirement already satisfied: tzdata>=2022.7 in /home/good-boy/CoursLicence3/CoursNLP/projets/WebScraping/TPs/code_tps/env/lib/python3.12/site-packages (from pandas->datasets) (2025.2)\n",
      "Collecting aiohappyeyeballs>=2.5.0 (from aiohttp!=4.0.0a0,!=4.0.0a1->fsspec[http]<=2025.3.0,>=2023.1.0->datasets)\n",
      "  Downloading aiohappyeyeballs-2.6.1-py3-none-any.whl.metadata (5.9 kB)\n",
      "Collecting aiosignal>=1.4.0 (from aiohttp!=4.0.0a0,!=4.0.0a1->fsspec[http]<=2025.3.0,>=2023.1.0->datasets)\n",
      "  Downloading aiosignal-1.4.0-py3-none-any.whl.metadata (3.7 kB)\n",
      "Collecting attrs>=17.3.0 (from aiohttp!=4.0.0a0,!=4.0.0a1->fsspec[http]<=2025.3.0,>=2023.1.0->datasets)\n",
      "  Using cached attrs-25.3.0-py3-none-any.whl.metadata (10 kB)\n",
      "Collecting frozenlist>=1.1.1 (from aiohttp!=4.0.0a0,!=4.0.0a1->fsspec[http]<=2025.3.0,>=2023.1.0->datasets)\n",
      "  Downloading frozenlist-1.7.0-cp312-cp312-manylinux_2_5_x86_64.manylinux1_x86_64.manylinux_2_17_x86_64.manylinux2014_x86_64.whl.metadata (18 kB)\n",
      "Collecting multidict<7.0,>=4.5 (from aiohttp!=4.0.0a0,!=4.0.0a1->fsspec[http]<=2025.3.0,>=2023.1.0->datasets)\n",
      "  Downloading multidict-6.6.4-cp312-cp312-manylinux2014_x86_64.manylinux_2_17_x86_64.manylinux_2_28_x86_64.whl.metadata (5.3 kB)\n",
      "Collecting propcache>=0.2.0 (from aiohttp!=4.0.0a0,!=4.0.0a1->fsspec[http]<=2025.3.0,>=2023.1.0->datasets)\n",
      "  Downloading propcache-0.3.2-cp312-cp312-manylinux_2_17_x86_64.manylinux2014_x86_64.whl.metadata (12 kB)\n",
      "Collecting yarl<2.0,>=1.17.0 (from aiohttp!=4.0.0a0,!=4.0.0a1->fsspec[http]<=2025.3.0,>=2023.1.0->datasets)\n",
      "  Downloading yarl-1.20.1-cp312-cp312-manylinux_2_17_x86_64.manylinux2014_x86_64.whl.metadata (73 kB)\n",
      "\u001b[2K     \u001b[90m━━━━━━━━━━━━━━━━━━━━━━━━━━━━━━━━━━━━━━━\u001b[0m \u001b[32m73.9/73.9 kB\u001b[0m \u001b[31m441.2 kB/s\u001b[0m eta \u001b[36m0:00:00\u001b[0ma \u001b[36m0:00:01\u001b[0m\n",
      "\u001b[?25hRequirement already satisfied: six>=1.5 in /home/good-boy/CoursLicence3/CoursNLP/projets/WebScraping/TPs/code_tps/env/lib/python3.12/site-packages (from python-dateutil>=2.8.2->pandas->datasets) (1.17.0)\n",
      "Downloading datasets-4.0.0-py3-none-any.whl (494 kB)\n",
      "\u001b[2K   \u001b[90m━━━━━━━━━━━━━━━━━━━━━━━━━━━━━━━━━━━━━━━━\u001b[0m \u001b[32m494.8/494.8 kB\u001b[0m \u001b[31m1.0 MB/s\u001b[0m eta \u001b[36m0:00:00\u001b[0m00:01\u001b[0m00:01\u001b[0m\n",
      "\u001b[?25hDownloading dill-0.3.8-py3-none-any.whl (116 kB)\n",
      "\u001b[2K   \u001b[90m━━━━━━━━━━━━━━━━━━━━━━━━━━━━━━━━━━━━━━━━\u001b[0m \u001b[32m116.3/116.3 kB\u001b[0m \u001b[31m1.1 MB/s\u001b[0m eta \u001b[36m0:00:00\u001b[0m \u001b[36m0:00:01\u001b[0m\n",
      "\u001b[?25hDownloading fsspec-2025.3.0-py3-none-any.whl (193 kB)\n",
      "\u001b[2K   \u001b[90m━━━━━━━━━━━━━━━━━━━━━━━━━━━━━━━━━━━━━━━\u001b[0m \u001b[32m193.6/193.6 kB\u001b[0m \u001b[31m872.3 kB/s\u001b[0m eta \u001b[36m0:00:00\u001b[0ma \u001b[36m0:00:01\u001b[0m\n",
      "\u001b[?25hDownloading multiprocess-0.70.16-py312-none-any.whl (146 kB)\n",
      "\u001b[2K   \u001b[90m━━━━━━━━━━━━━━━━━━━━━━━━━━━━━━━━━━━━━━━\u001b[0m \u001b[32m146.7/146.7 kB\u001b[0m \u001b[31m780.5 kB/s\u001b[0m eta \u001b[36m0:00:00\u001b[0ma \u001b[36m0:00:01\u001b[0m\n",
      "\u001b[?25hDownloading pyarrow-21.0.0-cp312-cp312-manylinux_2_28_x86_64.whl (42.8 MB)\n",
      "\u001b[2K   \u001b[90m━━━━━━━━━━━━━━━━━━━━━━━━━━━━━━━━━━━━━━━━\u001b[0m \u001b[32m42.8/42.8 MB\u001b[0m \u001b[31m1.0 MB/s\u001b[0m eta \u001b[36m0:00:00\u001b[0m00:01\u001b[0m00:02\u001b[0m0m\n",
      "\u001b[?25hDownloading xxhash-3.5.0-cp312-cp312-manylinux_2_17_x86_64.manylinux2014_x86_64.whl (194 kB)\n",
      "\u001b[2K   \u001b[90m━━━━━━━━━━━━━━━━━━━━━━━━━━━━━━━━━━━━━━━━\u001b[0m \u001b[32m194.4/194.4 kB\u001b[0m \u001b[31m1.1 MB/s\u001b[0m eta \u001b[36m0:00:00\u001b[0ma \u001b[36m0:00:01\u001b[0m\n",
      "\u001b[?25hDownloading aiohttp-3.12.15-cp312-cp312-manylinux_2_17_x86_64.manylinux2014_x86_64.whl (1.7 MB)\n",
      "\u001b[2K   \u001b[90m━━━━━━━━━━━━━━━━━━━━━━━━━━━━━━━━━━━━━━━━\u001b[0m \u001b[32m1.7/1.7 MB\u001b[0m \u001b[31m1.1 MB/s\u001b[0m eta \u001b[36m0:00:00\u001b[0m00:01\u001b[0m00:01\u001b[0m\n",
      "\u001b[?25hDownloading aiohappyeyeballs-2.6.1-py3-none-any.whl (15 kB)\n",
      "Downloading aiosignal-1.4.0-py3-none-any.whl (7.5 kB)\n",
      "Using cached attrs-25.3.0-py3-none-any.whl (63 kB)\n",
      "Downloading frozenlist-1.7.0-cp312-cp312-manylinux_2_5_x86_64.manylinux1_x86_64.manylinux_2_17_x86_64.manylinux2014_x86_64.whl (241 kB)\n",
      "\u001b[2K   \u001b[90m━━━━━━━━━━━━━━━━━━━━━━━━━━━━━━━━━━━━━━━\u001b[0m \u001b[32m241.8/241.8 kB\u001b[0m \u001b[31m111.6 kB/s\u001b[0m eta \u001b[36m0:00:00\u001b[0ma \u001b[36m0:00:01\u001b[0m\n",
      "\u001b[?25hDownloading multidict-6.6.4-cp312-cp312-manylinux2014_x86_64.manylinux_2_17_x86_64.manylinux_2_28_x86_64.whl (256 kB)\n",
      "\u001b[2K   \u001b[90m━━━━━━━━━━━━━━━━━━━━━━━━━━━━━━━━━━━━━━━━\u001b[0m \u001b[32m256.1/256.1 kB\u001b[0m \u001b[31m1.0 MB/s\u001b[0m eta \u001b[36m0:00:00\u001b[0m00:01\u001b[0m:00:01\u001b[0m\n",
      "\u001b[?25hDownloading propcache-0.3.2-cp312-cp312-manylinux_2_17_x86_64.manylinux2014_x86_64.whl (224 kB)\n",
      "\u001b[2K   \u001b[90m━━━━━━━━━━━━━━━━━━━━━━━━━━━━━━━━━━━━━━━━\u001b[0m \u001b[32m224.4/224.4 kB\u001b[0m \u001b[31m1.1 MB/s\u001b[0m eta \u001b[36m0:00:00\u001b[0ma \u001b[36m0:00:01\u001b[0m\n",
      "\u001b[?25hDownloading yarl-1.20.1-cp312-cp312-manylinux_2_17_x86_64.manylinux2014_x86_64.whl (355 kB)\n",
      "\u001b[2K   \u001b[90m━━━━━━━━━━━━━━━━━━━━━━━━━━━━━━━━━━━━━━━\u001b[0m \u001b[32m355.6/355.6 kB\u001b[0m \u001b[31m965.8 kB/s\u001b[0m eta \u001b[36m0:00:00\u001b[0m0:01\u001b[0m:00:01\u001b[0m\n",
      "\u001b[?25hInstalling collected packages: xxhash, pyarrow, propcache, multidict, fsspec, frozenlist, dill, attrs, aiohappyeyeballs, yarl, multiprocess, aiosignal, aiohttp, datasets\n",
      "  Attempting uninstall: fsspec\n",
      "    Found existing installation: fsspec 2025.9.0\n",
      "    Uninstalling fsspec-2025.9.0:\n",
      "      Successfully uninstalled fsspec-2025.9.0\n",
      "Successfully installed aiohappyeyeballs-2.6.1 aiohttp-3.12.15 aiosignal-1.4.0 attrs-25.3.0 datasets-4.0.0 dill-0.3.8 frozenlist-1.7.0 fsspec-2025.3.0 multidict-6.6.4 multiprocess-0.70.16 propcache-0.3.2 pyarrow-21.0.0 xxhash-3.5.0 yarl-1.20.1\n",
      "Note: you may need to restart the kernel to use updated packages.\n"
     ]
    }
   ],
   "source": [
    "%pip install datasets # pour manipuler des datasets"
   ]
  },
  {
   "cell_type": "code",
   "execution_count": 2,
   "id": "db84a4cb",
   "metadata": {},
   "outputs": [
    {
     "ename": "ModuleNotFoundError",
     "evalue": "No module named 'torch'",
     "output_type": "error",
     "traceback": [
      "\u001b[31m---------------------------------------------------------------------------\u001b[39m",
      "\u001b[31mModuleNotFoundError\u001b[39m                       Traceback (most recent call last)",
      "\u001b[36mCell\u001b[39m\u001b[36m \u001b[39m\u001b[32mIn[2]\u001b[39m\u001b[32m, line 3\u001b[39m\n\u001b[32m      1\u001b[39m \u001b[38;5;66;03m# Importation des bibliothèques nécessaires\u001b[39;00m\n\u001b[32m      2\u001b[39m \u001b[38;5;28;01mfrom\u001b[39;00m\u001b[38;5;250m \u001b[39m\u001b[34;01mtransformers\u001b[39;00m\u001b[38;5;250m \u001b[39m\u001b[38;5;28;01mimport\u001b[39;00m AutoTokenizer, AutoModelForSequenceClassification, pipeline\n\u001b[32m----> \u001b[39m\u001b[32m3\u001b[39m \u001b[38;5;28;01mimport\u001b[39;00m\u001b[38;5;250m \u001b[39m\u001b[34;01mtorch\u001b[39;00m\n\u001b[32m      4\u001b[39m \u001b[38;5;28;01mfrom\u001b[39;00m\u001b[38;5;250m \u001b[39m\u001b[34;01mdatasets\u001b[39;00m\u001b[38;5;250m \u001b[39m\u001b[38;5;28;01mimport\u001b[39;00m load_dataset\n\u001b[32m      5\u001b[39m \u001b[38;5;66;03m# Imports essentiels pour le traitement de texte et l'apprentissage automatique\u001b[39;00m\n",
      "\u001b[31mModuleNotFoundError\u001b[39m: No module named 'torch'"
     ]
    }
   ],
   "source": [
    "# Importation des bibliothèques nécessaires\n",
    "from transformers import AutoTokenizer, AutoModelForSequenceClassification, pipeline\n",
    "import torch\n",
    "from datasets import load_dataset\n",
    "# Imports essentiels pour le traitement de texte et l'apprentissage automatique\n",
    "import pandas as pd\n",
    "import numpy as np\n",
    "import matplotlib.pyplot as plt\n",
    "import seaborn as sns\n",
    "from sklearn.model_selection import train_test_split\n",
    "from sklearn.naive_bayes import MultinomialNB\n",
    "from sklearn.feature_extraction.text import TfidfVectorizer\n",
    "from sklearn.metrics import classification_report, confusion_matrix, accuracy_score\n",
    "import warnings\n",
    "warnings.filterwarnings('ignore')"
   ]
  },
  {
   "cell_type": "code",
   "execution_count": 4,
   "id": "5915c558",
   "metadata": {},
   "outputs": [],
   "source": [
    "# Creation d'un dataset d'exemple pour l'analyse de sentiment\n",
    "data = {\n",
    "    'text': [\n",
    "        \"J'adore ce produit, il est fantastique!\",\n",
    "        \"C'est le pire service que j'ai jamais reçu.\",\n",
    "        \"Moyen, rien de spécial.\",\n",
    "        \"Absolument incroyable, je le recommande vivement!\",\n",
    "        \"Je suis très déçu par la qualité.\",\n",
    "        \"C'est correct, mais pourrait être mieux.\",\n",
    "        \"Fantastique expérience, je reviendrai certainement.\",\n",
    "        \"Je n'aime pas du tout, très mauvais.\",\n",
    "        \"C'est acceptable, mais pas impressionnant.\",\n",
    "        \"Excellente qualité, très satisfait!\",\n",
    "        \"Ce film est absolument fantastique, je le recommande vivement !\",\n",
    "        \"J'ai détesté ce livre, il était très ennuyeux et mal écrit.\",\n",
    "        \"Le service client était excellent, très satisfait de mon achat.\",\n",
    "        \"Produit de mauvaise qualité, je suis très déçu.\",\n",
    "        \"Une expérience incroyable, je reviendrai certainement !\",\n",
    "        \"Le repas était fade et le service décevant.\",\n",
    "        \"Interface utilisateur intuitive et fonctionnalités utiles.\",\n",
    "        \"Application bugguée, impossible de l'utiliser correctement.\",\n",
    "        \"Excellent rapport qualité-prix, je recommande !\",\n",
    "        \"Très mauvaise expérience, à éviter absolument.\",\n",
    "        \"Le produit correspond exactement à mes attentes.\",\n",
    "        \"Service après-vente inexistant, très frustrant.\",\n",
    "        \"Design élégant et performances exceptionnelles.\",\n",
    "        \"Prix trop élevé pour la qualité proposée.\",\n",
    "        \"Livraison rapide et emballage soigné, parfait !\",\n",
    "        \"Produit défaillant dès le premier usage.\",\n",
    "        \"Interface moderne et facile à prendre en main.\",\n",
    "        \"Documentation insuffisante, difficile à comprendre.\",\n",
    "        \"Très bon investissement, content de mon choix.\",\n",
    "        \"Fonctionnalité manquante, très décevant.\"\n",
    "    ],\n",
    "    'setiment': [\n",
    "        \"positif\", \"negatif\", \"neutre\", \"positif\", \"negatif\",\n",
    "        \"neutre\", \"positif\", \"negatif\", \"neutre\", \"positif\",\n",
    "        \"positif\", \"negatif\", \"positif\", \"negatif\", \"positif\",\n",
    "        \"negatif\", \"positif\", \"negatif\", \"positif\", \"negatif\",\n",
    "        \"positif\", \"negatif\", \"positif\", \"negatif\", \"positif\",\n",
    "        \"negatif\", \"positif\", \"negatif\", \"positif\", \"negatif\"\n",
    "    ]\n",
    "}"
   ]
  },
  {
   "cell_type": "code",
   "execution_count": 5,
   "id": "28061d68",
   "metadata": {},
   "outputs": [
    {
     "name": "stdout",
     "output_type": "stream",
     "text": [
      "Aperçu du dataset :\n",
      "1. J'adore ce produit, il est fantastique! - Sentiment: positif\n",
      "2. C'est le pire service que j'ai jamais reçu. - Sentiment: negatif\n",
      "3. Moyen, rien de spécial. - Sentiment: neutre\n",
      "4. Absolument incroyable, je le recommande vivement! - Sentiment: positif\n",
      "5. Je suis très déçu par la qualité. - Sentiment: negatif\n"
     ]
    }
   ],
   "source": [
    "# Creation d'un DataFrame pandas\n",
    "df = pd.DataFrame(data)\n",
    "print(\"Aperçu du dataset :\")\n",
    "for i, row in df.head(5).iterrows():\n",
    "    print(f\"{i+1}. {row['text']} - Sentiment: {row['setiment']}\")"
   ]
  },
  {
   "cell_type": "code",
   "execution_count": 6,
   "id": "3df2d698",
   "metadata": {},
   "outputs": [
    {
     "data": {
      "image/png": "[encoded data removed]",
      "text/plain": [
       "<Figure size 800x500 with 2 Axes>"
      ]
     },
     "metadata": {},
     "output_type": "display_data"
    }
   ],
   "source": [
    "# Visualisation de la distribution des sentiments\n",
    "plt.figure(figsize=(8, 5))\n",
    "plt.subplot(1, 2, 1) # permet d'avoir deux graphiques côte à côte\n",
    "sentiment_counts = df['setiment'].value_counts()\n",
    "plt.pie(sentiment_counts.values, labels=sentiment_counts.index, autopct='%1.1f%%', startangle=140) # permet de faire un graphique en camembert\n",
    "plt.title('Distribution des sentiments')\n",
    "\n",
    "plt.subplot(1, 2, 2)\n",
    "plt.bar(sentiment_counts.index, sentiment_counts.values, color=['green', 'red', 'gray'])\n",
    "plt.title('Nombre de commentaires par sentiment')\n",
    "plt.xlabel('Sentiment')\n",
    "plt.ylabel('Nombre de commentaires')\n",
    "plt.tight_layout()\n",
    "plt.show()"
   ]
  },
  {
   "cell_type": "markdown",
   "id": "1c464794",
   "metadata": {},
   "source": [
    "## BERT pour la classification de texte"
   ]
  },
  {
   "cell_type": "code",
   "execution_count": 7,
   "id": "6932e71c",
   "metadata": {},
   "outputs": [],
   "source": [
    "# Conversio des labels en valeurs numériques\n",
    "label_mapping = {'positif': 1, 'neutre': 2, 'negatif': 0}\n",
    "df['label'] = df['setiment'].map(label_mapping)"
   ]
  },
  {
   "cell_type": "code",
   "execution_count": 8,
   "id": "ad2f44bf",
   "metadata": {},
   "outputs": [],
   "source": [
    "# Division du dataset en ensembles d'entraînement et de test\n",
    "X_train, X_test, y_train, y_test = train_test_split(df['text'], df['label'], test_size=0.2, random_state=42, stratify=df['label'])"
   ]
  },
  {
   "cell_type": "code",
   "execution_count": 9,
   "id": "c3bafa6c",
   "metadata": {},
   "outputs": [
    {
     "name": "stdout",
     "output_type": "stream",
     "text": [
      "Données d'entraînement: 24 d'éhchantillons\n",
      "Données de test: 6 d'échantillons\n",
      "Distribution des labels dans l'ensemble d'entraînement:\n",
      "label\n",
      "1    0.458333\n",
      "0    0.416667\n",
      "2    0.125000\n",
      "Name: proportion, dtype: float64\n",
      "Distribution train positif : 17 |  Négatif : 7\n",
      "Distribution test - positif : 3 |  Négatif : 3\n"
     ]
    }
   ],
   "source": [
    "print(f\"Données d'entraînement: {len(X_train)} d'éhchantillons\")\n",
    "print(f\"Données de test: {len(X_test)} d'échantillons\")\n",
    "print(f\"Distribution des labels dans l'ensemble d'entraînement:\\n{y_train.value_counts(normalize=True)}\")\n",
    "print(f\"Distribution train positif : {sum(y_train)} |  Négatif : {len(y_train)-sum(y_train)}\")\n",
    "print(f\"Distribution test - positif : {sum(y_test)} |  Négatif : {len(y_test)-sum(y_test)}\")"
   ]
  },
  {
   "cell_type": "code",
   "execution_count": 11,
   "id": "4b37920b",
   "metadata": {},
   "outputs": [
    {
     "name": "stdout",
     "output_type": "stream",
     "text": [
      "Modèle de référence : Naive Bayes avec TF-IDF\n",
      "Dimension des donées d'entraînement : 96\n"
     ]
    }
   ],
   "source": [
    "# Modèle de reference : Naive Bayes avec TF-IDF\n",
    "vectorizer = TfidfVectorizer(max_features=1000, stop_words='english') # on utilise le français comme langue pour les stop words\n",
    "x_train_tfidf = vectorizer.fit_transform(X_train) # on utilise fit_transform pour apprendre le vocabulaire et transformer les données d'entraînement\n",
    "x_test_tfidf = vectorizer.transform(X_test) # on utilise transform pour transformer les données de test avec le vocabulaire appris\n",
    "\n",
    "print(\"Modèle de référence : Naive Bayes avec TF-IDF\")\n",
    "# Affichage de la dimension des données d'entraînement\n",
    "print(f\"Dimension des donées d'entraînement : {x_train_tfidf.shape[1]}\") "
   ]
  },
  {
   "cell_type": "code",
   "execution_count": 13,
   "id": "468d02ae",
   "metadata": {},
   "outputs": [
    {
     "name": "stdout",
     "output_type": "stream",
     "text": [
      "Accuracy du modèle de référence (Naive Bayes + TF-IDF) : 0.5000\n",
      "Rapport de classification :\n",
      "              precision    recall  f1-score   support\n",
      "\n",
      "     negatif       0.00      0.00      0.00         3\n",
      "     positif       0.50      1.00      0.67         3\n",
      "\n",
      "    accuracy                           0.50         6\n",
      "   macro avg       0.25      0.50      0.33         6\n",
      "weighted avg       0.25      0.50      0.33         6\n",
      "\n"
     ]
    }
   ],
   "source": [
    "# Prédiction et évaluation du modèle de référence\n",
    "model_nb = MultinomialNB()\n",
    "model_nb.fit(x_train_tfidf, y_train)\n",
    "\n",
    "# Prédiction et évaluation de la performance du modèle de référence\n",
    "y_pred_nb = model_nb.predict(x_test_tfidf)\n",
    "nb_accuracy = accuracy_score(y_test, y_pred_nb)\n",
    "print(f\"Accuracy du modèle de référence (Naive Bayes + TF-IDF) : {nb_accuracy:.4f}\")\n",
    "print(\"Rapport de classification :\")\n",
    "print(classification_report(y_test, y_pred_nb, target_names=['negatif', 'positif']))\n"
   ]
  },
  {
   "cell_type": "code",
   "execution_count": 14,
   "id": "7e8a9ba3",
   "metadata": {},
   "outputs": [
    {
     "name": "stdout",
     "output_type": "stream",
     "text": [
      "Matrice de confusion :\n"
     ]
    },
    {
     "data": {
      "image/png": "[encoded data removed]",
      "text/plain": [
       "<Figure size 640x480 with 2 Axes>"
      ]
     },
     "metadata": {},
     "output_type": "display_data"
    }
   ],
   "source": [
    "# Matrice de confusion\n",
    "print(\"Matrice de confusion :\")\n",
    "cm_nb = confusion_matrix(y_test, y_pred_nb)\n",
    "sns.heatmap(cm_nb, annot=True, fmt='d', cmap='Blues', xticklabels=['negatif','positif'], yticklabels=['negatif','positif'])\n",
    "plt.xlabel('Prédictions')\n",
    "plt.ylabel('Véritables étiquettes')\n",
    "plt.title('Matrice de confusion - Modèle de référence')\n",
    "plt.show()"
   ]
  },
  {
   "cell_type": "code",
   "execution_count": 19,
   "id": "b9005c4c",
   "metadata": {},
   "outputs": [
    {
     "name": "stdout",
     "output_type": "stream",
     "text": [
      "Erreur lors du chargement du modèle ou de la création de la pipeline: \n",
      "AutoModelForSequenceClassification requires the PyTorch library but it was not found in your environment. Check out the instructions on the\n",
      "installation page: https://pytorch.org/get-started/locally/ and follow the ones that match your environment.\n",
      "Please note that you may need to restart your runtime after installation.\n",
      "\n"
     ]
    },
    {
     "ename": "NameError",
     "evalue": "name 'torch' is not defined",
     "output_type": "error",
     "traceback": [
      "\u001b[31m---------------------------------------------------------------------------\u001b[39m",
      "\u001b[31mImportError\u001b[39m                               Traceback (most recent call last)",
      "\u001b[36mCell\u001b[39m\u001b[36m \u001b[39m\u001b[32mIn[19]\u001b[39m\u001b[32m, line 5\u001b[39m\n\u001b[32m      4\u001b[39m tokenizer = AutoTokenizer.from_pretrained(nom_modele)\n\u001b[32m----> \u001b[39m\u001b[32m5\u001b[39m model = \u001b[43mAutoModelForSequenceClassification\u001b[49m\u001b[43m.\u001b[49m\u001b[43mfrom_pretrained\u001b[49m(nom_modele) \u001b[38;5;66;03m# modèle pré-entraîné pour la classification de texte\u001b[39;00m\n\u001b[32m      7\u001b[39m \u001b[38;5;28mprint\u001b[39m(\u001b[33mf\u001b[39m\u001b[33m\"\u001b[39m\u001b[33mModèle \u001b[39m\u001b[33m'\u001b[39m\u001b[38;5;132;01m{\u001b[39;00mnom_modele\u001b[38;5;132;01m}\u001b[39;00m\u001b[33m'\u001b[39m\u001b[33m chargé avec succès.\u001b[39m\u001b[33m\"\u001b[39m)\n",
      "\u001b[36mFile \u001b[39m\u001b[32m~/CoursLicence3/CoursNLP/projets/WebScraping/TPs/code_tps/env/lib/python3.12/site-packages/transformers/utils/import_utils.py:2142\u001b[39m, in \u001b[36mDummyObject.__getattribute__\u001b[39m\u001b[34m(cls, key)\u001b[39m\n\u001b[32m   2141\u001b[39m     \u001b[38;5;28;01mreturn\u001b[39;00m \u001b[38;5;28msuper\u001b[39m().\u001b[34m__getattribute__\u001b[39m(key)\n\u001b[32m-> \u001b[39m\u001b[32m2142\u001b[39m \u001b[43mrequires_backends\u001b[49m\u001b[43m(\u001b[49m\u001b[38;5;28;43mcls\u001b[39;49m\u001b[43m,\u001b[49m\u001b[43m \u001b[49m\u001b[38;5;28;43mcls\u001b[39;49m\u001b[43m.\u001b[49m\u001b[43m_backends\u001b[49m\u001b[43m)\u001b[49m\n",
      "\u001b[36mFile \u001b[39m\u001b[32m~/CoursLicence3/CoursNLP/projets/WebScraping/TPs/code_tps/env/lib/python3.12/site-packages/transformers/utils/import_utils.py:2128\u001b[39m, in \u001b[36mrequires_backends\u001b[39m\u001b[34m(obj, backends)\u001b[39m\n\u001b[32m   2127\u001b[39m \u001b[38;5;28;01mif\u001b[39;00m failed:\n\u001b[32m-> \u001b[39m\u001b[32m2128\u001b[39m     \u001b[38;5;28;01mraise\u001b[39;00m \u001b[38;5;167;01mImportError\u001b[39;00m(\u001b[33m\"\u001b[39m\u001b[33m\"\u001b[39m.join(failed))\n",
      "\u001b[31mImportError\u001b[39m: \nAutoModelForSequenceClassification requires the PyTorch library but it was not found in your environment. Check out the instructions on the\ninstallation page: https://pytorch.org/get-started/locally/ and follow the ones that match your environment.\nPlease note that you may need to restart your runtime after installation.\n",
      "\nDuring handling of the above exception, another exception occurred:\n",
      "\u001b[31mNameError\u001b[39m                                 Traceback (most recent call last)",
      "\u001b[36mCell\u001b[39m\u001b[36m \u001b[39m\u001b[32mIn[19]\u001b[39m\u001b[32m, line 21\u001b[39m\n\u001b[32m     19\u001b[39m \u001b[38;5;28mprint\u001b[39m(\u001b[33mf\u001b[39m\u001b[33m\"\u001b[39m\u001b[33mErreur lors du chargement du modèle ou de la création de la pipeline: \u001b[39m\u001b[38;5;132;01m{\u001b[39;00me\u001b[38;5;132;01m}\u001b[39;00m\u001b[33m\"\u001b[39m)\n\u001b[32m     20\u001b[39m \u001b[38;5;66;03m# Alternative : utiliser une pipeline pré-définie plus légère que le GPU utilisé part torch\u001b[39;00m\n\u001b[32m---> \u001b[39m\u001b[32m21\u001b[39m classifier = \u001b[43mpipeline\u001b[49m\u001b[43m(\u001b[49m\n\u001b[32m     22\u001b[39m \u001b[43m    \u001b[49m\u001b[33;43m\"\u001b[39;49m\u001b[33;43msentiment-analysis\u001b[39;49m\u001b[33;43m\"\u001b[39;49m\u001b[43m,\u001b[49m\n\u001b[32m     23\u001b[39m \u001b[43m    \u001b[49m\u001b[43mmodel\u001b[49m\u001b[43m=\u001b[49m\u001b[33;43m\"\u001b[39;49m\u001b[33;43mcardiffnlp/twitter-roberta-base-sentiment-latest\u001b[39;49m\u001b[33;43m\"\u001b[39;49m\u001b[43m,\u001b[49m\n\u001b[32m     24\u001b[39m \n\u001b[32m     25\u001b[39m \u001b[43m\u001b[49m\u001b[43m)\u001b[49m\n",
      "\u001b[36mFile \u001b[39m\u001b[32m~/CoursLicence3/CoursNLP/projets/WebScraping/TPs/code_tps/env/lib/python3.12/site-packages/transformers/pipelines/__init__.py:1018\u001b[39m, in \u001b[36mpipeline\u001b[39m\u001b[34m(task, model, config, tokenizer, feature_extractor, image_processor, processor, framework, revision, use_fast, token, device, device_map, dtype, trust_remote_code, model_kwargs, pipeline_class, **kwargs)\u001b[39m\n\u001b[32m   1013\u001b[39m         \u001b[38;5;28;01mraise\u001b[39;00m \u001b[38;5;167;01mValueError\u001b[39;00m(\n\u001b[32m   1014\u001b[39m             \u001b[33m'\u001b[39m\u001b[33mYou cannot use both `pipeline(... dtype=..., model_kwargs=\u001b[39m\u001b[33m{\u001b[39m\u001b[33m\"\u001b[39m\u001b[33mdtype\u001b[39m\u001b[33m\"\u001b[39m\u001b[33m:...})` as those\u001b[39m\u001b[33m'\u001b[39m\n\u001b[32m   1015\u001b[39m             \u001b[33m\"\u001b[39m\u001b[33m arguments might conflict, use only one.)\u001b[39m\u001b[33m\"\u001b[39m\n\u001b[32m   1016\u001b[39m         )\n\u001b[32m   1017\u001b[39m \u001b[38;5;28;01mif\u001b[39;00m dtype \u001b[38;5;129;01mis\u001b[39;00m \u001b[38;5;129;01mnot\u001b[39;00m \u001b[38;5;28;01mNone\u001b[39;00m:\n\u001b[32m-> \u001b[39m\u001b[32m1018\u001b[39m     \u001b[38;5;28;01mif\u001b[39;00m \u001b[38;5;28misinstance\u001b[39m(dtype, \u001b[38;5;28mstr\u001b[39m) \u001b[38;5;129;01mand\u001b[39;00m \u001b[38;5;28mhasattr\u001b[39m(\u001b[43mtorch\u001b[49m, dtype):\n\u001b[32m   1019\u001b[39m         dtype = \u001b[38;5;28mgetattr\u001b[39m(torch, dtype)\n\u001b[32m   1020\u001b[39m     model_kwargs[\u001b[33m\"\u001b[39m\u001b[33mdtype\u001b[39m\u001b[33m\"\u001b[39m] = dtype\n",
      "\u001b[31mNameError\u001b[39m: name 'torch' is not defined"
     ]
    }
   ],
   "source": [
    "#  Chargement du modele BERT pré-entraîné pour la classification de texte\n",
    "try: \n",
    "    nom_modele = \"nlptown/bert-base-multilingual-uncased-sentiment\"\n",
    "    tokenizer = AutoTokenizer.from_pretrained(nom_modele)\n",
    "    model = AutoModelForSequenceClassification.from_pretrained(nom_modele) # modèle pré-entraîné pour la classification de texte\n",
    "    \n",
    "    print(f\"Modèle '{nom_modele}' chargé avec succès.\")\n",
    "    print(f\"Tokenizer configurer avec {len(tokenizer)} tokens\")\n",
    "    \n",
    "    # Ceer une pipeline de classification de texte\n",
    "    classifier = (\n",
    "        \"analyse_sentiment\",\n",
    "        model==model,\n",
    "        tokenizer==tokenizer,\n",
    "        #device==0 if torch.cuda.is_available() else -1 # utilise le GPU si disponible\n",
    "    )\n",
    "    print(\"Pipeline de classification de texte créée avec succès.\")\n",
    "except Exception as e:\n",
    "    print(f\"Erreur lors du chargement du modèle ou de la création de la pipeline: {e}\")\n",
    "    # Alternative : utiliser une pipeline pré-définie plus légère que le GPU utilisé part torch\n",
    "    classifier = pipeline(\n",
    "        \"sentiment-analysis\",\n",
    "        model=\"cardiffnlp/twitter-roberta-base-sentiment-latest\",\n",
    "        \n",
    "    )"
   ]
  },
  {
   "cell_type": "code",
   "execution_count": 20,
   "id": "9f4e1a47",
   "metadata": {},
   "outputs": [],
   "source": [
    "# Test et évaluation du modèle BERT\n",
    "bert_predictions = []\n",
    "bert_scores = []\n"
   ]
  },
  {
   "cell_type": "code",
   "execution_count": 21,
   "id": "599dc183",
   "metadata": {},
   "outputs": [
    {
     "name": "stdout",
     "output_type": "stream",
     "text": [
      "Évaluation du modèle BERT sur l'ensemble de test...\n",
      "Erreur lors de la prédiction pour le texte 1: name 'classifier' is not defined\n",
      "Erreur lors de la prédiction pour le texte 2: name 'classifier' is not defined\n",
      "Erreur lors de la prédiction pour le texte 3: name 'classifier' is not defined\n",
      "Erreur lors de la prédiction pour le texte 4: name 'classifier' is not defined\n",
      "Erreur lors de la prédiction pour le texte 5: name 'classifier' is not defined\n",
      "Erreur lors de la prédiction pour le texte 6: name 'classifier' is not defined\n"
     ]
    }
   ],
   "source": [
    "print(\"Évaluation du modèle BERT sur l'ensemble de test...\")\n",
    "for i, text in enumerate(X_test):\n",
    "    try:\n",
    "        result = classifier(text)\n",
    "        label = result[0]['label']\n",
    "        score = result[0]['score']\n",
    "        \n",
    "        # Conversion des labels en valeurs numériques\n",
    "        if '1' in label or 'NEGATIVE' in label:\n",
    "            bert_label = 0\n",
    "        elif '2' in label or 'NEUTRE' in label:\n",
    "            bert_label = 2\n",
    "        elif '3' in label or 'POSITIVE' in label:\n",
    "            bert_label = 1\n",
    "        else:\n",
    "            bert_label = 2  # neutre par défaut si le label est inconnu\n",
    "        \n",
    "        bert_predictions.append(bert_label)\n",
    "        bert_scores.append(score)\n",
    "        \n",
    "        print(f\"Texte {i+1}: {text}\")\n",
    "        print(f\"Prédiction BERT: {label} (score: {score:.4f}) -> Label numérique: {bert_label}\")\n",
    "    except Exception as e:\n",
    "        print(f\"Erreur lors de la prédiction pour le texte {i+1}: {e}\")\n",
    "        bert_predictions.append(1)  # neutre par défaut en cas d'erreur\n",
    "        bert_scores.append(0.0)"
   ]
  },
  {
   "cell_type": "code",
   "execution_count": null,
   "id": "417b4341",
   "metadata": {},
   "outputs": [],
   "source": [
    "bert_accuracy = accuracy_score(y_test, bert_predictions)\n",
    "print(f\"Accuracy du modèle BERT : {bert_accuracy:.4f}\")\n"
   ]
  },
  {
   "cell_type": "code",
   "execution_count": null,
   "id": "1836089d",
   "metadata": {},
   "outputs": [],
   "source": [
    "# Comparaison des modeles\n",
    "print(\"Rapport de classification - Naive Bayes : \")\n",
    "print(classification_report(y_test, y_pred_nb, target_names=['negatif', 'neutre', 'positif']))\n",
    "print(\"Rapport de classification - BERT : \")\n",
    "print(classification_report(y_test, bert_predictions, target_names=['negatif', 'positif']))\n",
    "print(classification_report(y_test, bert_predictions, target_names=['negatif', 'neutre', 'positif']))"
   ]
  },
  {
   "cell_type": "code",
   "execution_count": null,
   "id": "ecd0a203",
   "metadata": {},
   "outputs": [],
   "source": [
    "# Visualisation de la matrice de confusion pour le modèle BERT\n",
    "print(\"Matrice de confusion - BERT :\")\n",
    "cm_bert = confusion_matrix(y_test, bert_predictions)\n",
    "sns.heatmap(cm_bert, annot=True, fmt='d', cmap='Greens', xticklabels=['negatif', 'neutre', 'positif'], yticklabels=['negatif', 'neutre', 'positif'])\n",
    "plt.xlabel('Prédictions')\n",
    "plt.ylabel('Véritables étiquettes')\n",
    "plt.title('Matrice de confusion - BERT')\n",
    "plt.show()"
   ]
  },
  {
   "cell_type": "code",
   "execution_count": null,
   "id": "26a656e4",
   "metadata": {},
   "outputs": [],
   "source": [
    "#Visualisation des performances \n",
    "fig, axes = plt.subplots(1, 2, figsize=(12, 5))\n",
    "\n",
    "# Comparaison des précisisions\n",
    "models = ['Naive Bayes + TF-IDF', 'BERT']\n",
    "accuracies = [nb_accuracy, bert_accuracy]\n",
    "colors = ['blue', 'green']\n",
    "\n",
    "axes[0].bar(models, accuracies, color=colors)\n",
    "axes[0].set_title('Comparaison des Précisions')\n",
    "axes[0].set_ylabel('Précision')\n",
    "axes[0].set_ylim(0, 1)\n",
    "for i, v in enumerate(accuracies):\n",
    "    axes[0].text(i, v + 0.02, f\"{v:.2f}\", ha='center', fontweight='bold') # Affiche la valeur au-dessus de chaque barre\n",
    "\n",
    "# Distribution des scores de confiance BERT\n",
    "axes[1].hist(bert_scores, bins=10, alpha=0.7, color='green')\n",
    "axes[1].set_title('Distribution des Scores de Confiance BERT')\n",
    "axes[1].set_xlabel('Score de Confiance')\n",
    "axes[1].set_ylabel('Fréquence')\n",
    "\n",
    "plt.tight_layout()\n",
    "plt.show()"
   ]
  }
 ],
 "metadata": {
  "kernelspec": {
   "display_name": "env",
   "language": "python",
   "name": "python3"
  },
  "language_info": {
   "codemirror_mode": {
    "name": "ipython",
    "version": 3
   },
   "file_extension": ".py",
   "mimetype": "text/x-python",
   "name": "python",
   "nbconvert_exporter": "python",
   "pygments_lexer": "ipython3",
   "version": "3.12.3"
  }
 },
 "nbformat": 4,
 "nbformat_minor": 5
}
