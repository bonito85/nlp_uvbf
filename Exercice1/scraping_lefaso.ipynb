{
 "cells": [
  {
   "cell_type": "markdown",
   "id": "f08c51a2",
   "metadata": {},
   "source": [
    "##  Scraping des données sur lefaso.net"
   ]
  },
  {
   "cell_type": "markdown",
   "id": "a4f57cd4",
   "metadata": {},
   "source": [
    "## Installation des librairies nécessaires\n",
    "### Installation de tqdm\n",
    "Utilisé pour l'animation pour l'ajout d'une barre de progression\n",
    "_installation_: \n",
    "\n",
    "\n",
    "    %pip install tqdm"
   ]
  },
  {
   "cell_type": "code",
   "execution_count": 9,
   "id": "d802eb59",
   "metadata": {},
   "outputs": [
    {
     "name": "stdout",
     "output_type": "stream",
     "text": [
      "Requirement already satisfied: tqdm in /home/good-boy/CoursLicence3/CoursNLP/projets/WebScraping/TPs/code_tps/env/lib/python3.12/site-packages (4.67.1)\n",
      "Note: you may need to restart the kernel to use updated packages.\n"
     ]
    }
   ],
   "source": [
    "%pip install tqdm"
   ]
  },
  {
   "cell_type": "code",
   "execution_count": 10,
   "id": "2ac656d6",
   "metadata": {},
   "outputs": [],
   "source": [
    "# Importations des bibliothèques\n",
    "import requests\n",
    "from bs4 import BeautifulSoup\n",
    "import pandas as pd\n",
    "import time\n",
    "import re\n",
    "import os\n",
    "from urllib.parse import urljoin\n",
    "from tqdm import trange"
   ]
  },
  {
   "cell_type": "code",
   "execution_count": null,
   "id": "ff4963b3",
   "metadata": {},
   "outputs": [
    {
     "name": "stderr",
     "output_type": "stream",
     "text": [
      "Lefaso rub.2: 100%|██████████| 10/10 [00:28<00:00,  2.80s/it]\n",
      "Lefaso rub.4: 100%|██████████| 10/10 [00:28<00:00,  2.85s/it]"
     ]
    },
    {
     "name": "stdout",
     "output_type": "stream",
     "text": [
      "       source   rubrique  page  \\\n",
      "0  lefaso.net  Politique     1   \n",
      "1  lefaso.net  Politique     1   \n",
      "2  lefaso.net  Politique     1   \n",
      "3  lefaso.net  Politique     1   \n",
      "4  lefaso.net  Politique     1   \n",
      "\n",
      "                                               titre  \\\n",
      "0  Burkina : le partenariat public-privé se renfo...   \n",
      "1  Burkina/ Évaluation des ministres : 54 %, la m...   \n",
      "2  Burkina/Évaluation des ministres : Jacques Sos...   \n",
      "3  Burkina/Evaluation des contrats d’objectifs 20...   \n",
      "4  Burkina/Évaluation des ministres : Un taux glo...   \n",
      "\n",
      "                                         url  date  \n",
      "0  https://lefaso.net/spip.php?article140127  None  \n",
      "1  https://lefaso.net/spip.php?article139954  None  \n",
      "2  https://lefaso.net/spip.php?article139948  None  \n",
      "3  https://lefaso.net/spip.php?article139947  None  \n",
      "4  https://lefaso.net/spip.php?article139946  None  \n"
     ]
    },
    {
     "name": "stderr",
     "output_type": "stream",
     "text": [
      "\n"
     ]
    }
   ],
   "source": [
    "BASE_LEFASO = \"https://lefaso.net/spip.php\"\n",
    "HEADERS = {\n",
    "    \"User-Agent\": \"Mozilla/5.0 (X11; Linux x86_64) AppleWebKit/537.36 (KHTML, like Gecko) Chrome/120.0.0.0 Safari/537.36\"\n",
    "}\n",
    "\n",
    "def _scrape_lefaso_rubrique(rubrique: int, pages: int = 10) -> pd.DataFrame:\n",
    "    rows = []\n",
    "    step = 20  # 20 articles par page\n",
    "    for i in trange(pages, desc=f\"Lefaso rub.{rubrique}\"):\n",
    "        offset = i * step\n",
    "        params = {f\"rubrique{rubrique}\": \"\", \"debut_articles\": str(offset)} if i else {f\"rubrique{rubrique}\": \"\"}\n",
    "        r = requests.get(BASE_LEFASO, params=params, headers=HEADERS, timeout=20)\n",
    "        r.raise_for_status()\n",
    "        soup = BeautifulSoup(r.text, \"html.parser\")\n",
    "        # Sur Lefaso, les titres d'articles listés sont des <h3><a ...>\n",
    "        for a in soup.select(\"h3 a\"):\n",
    "            titre = a.get_text(strip=True)\n",
    "            href = a.get(\"href\")\n",
    "            url = urljoin(BASE_LEFASO, href) if href else None  # Correction pour URL absolue\n",
    "            rows.append({\n",
    "                \"source\": \"lefaso.net\",\n",
    "                \"rubrique\": {2: \"Politique\", 4: \"Société\"}.get(rubrique, str(rubrique)),\n",
    "                \"page\": (i + 1),\n",
    "                \"titre\": titre,\n",
    "                \"url\": url,\n",
    "                \"date\": None  # on reste simple (la date est sur la page article)\n",
    "            })\n",
    "        time.sleep(0.7)\n",
    "    return pd.DataFrame(rows)\n",
    "\n",
    "def get_lefaso_politique_societe(pages: int = 10) -> pd.DataFrame:\n",
    "    df_pol = _scrape_lefaso_rubrique(2, pages)\n",
    "    df_soc = _scrape_lefaso_rubrique(4, pages)\n",
    "    return pd.concat([df_pol, df_soc], ignore_index=True)\n",
    "\n",
    "# Pour Jupyter, pas besoin de if __name__ == \"__main__\"\n",
    "df_lf = get_lefaso_politique_societe(10)\n",
    "os.makedirs(\"Docs\", exist_ok=True)\n",
    "df_lf.to_csv(\"Docs/lefaso_politique_societe_p1-10.csv\", index=False)\n",
    "df_lf.to_json(\"Docs/lefaso_politique_societe_p1-10.json\", orient=\"records\", lines=True)\n",
    "print(df_lf.head())"
   ]
  }
 ],
 "metadata": {
  "kernelspec": {
   "display_name": "env",
   "language": "python",
   "name": "python3"
  },
  "language_info": {
   "codemirror_mode": {
    "name": "ipython",
    "version": 3
   },
   "file_extension": ".py",
   "mimetype": "text/x-python",
   "name": "python",
   "nbconvert_exporter": "python",
   "pygments_lexer": "ipython3",
   "version": "3.12.3"
  }
 },
 "nbformat": 4,
 "nbformat_minor": 5
}
