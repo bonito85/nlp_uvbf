{
 "cells": [
  {
   "cell_type": "markdown",
   "id": "336fc011",
   "metadata": {},
   "source": [
    "## Classification de Texte avec Naive Bayes\n"
   ]
  },
  {
   "cell_type": "code",
   "execution_count": 1,
   "id": "4ef27765",
   "metadata": {},
   "outputs": [],
   "source": [
    "# Importations des bibliothèques nécessaires\n",
    "\n",
    "import nltk\n",
    "import pandas as pd\n",
    "import matplotlib.pyplot as plt\n",
    "import numpy as np\n",
    "from sklearn.model_selection import train_test_split\n",
    "from sklearn.feature_extraction.text import TfidfVectorizer\n",
    "from sklearn.pipeline import Pipeline\n",
    "from sklearn.naive_bayes import MultinomialNB\n",
    "from sklearn.metrics import accuracy_score, classification_report, confusion_matrix\n",
    "import seaborn as sns\n",
    "import re\n",
    "import nltk\n",
    "from collections import Counter\n",
    "\n",
    "\n",
    "\n"
   ]
  },
  {
   "cell_type": "code",
   "execution_count": 2,
   "id": "d7086638",
   "metadata": {},
   "outputs": [],
   "source": [
    "# Téléchargement des ressources NLTK nécessaires\n",
    "try: \n",
    "    nltk.data.find('corpora/stopwords')\n",
    "except LookupError:\n",
    "    nltk.download('stopwords')\n",
    "    \n"
   ]
  },
  {
   "cell_type": "code",
   "execution_count": 3,
   "id": "4565b51b",
   "metadata": {},
   "outputs": [],
   "source": [
    "# Importation des données de stopwords \n",
    "from nltk.corpus import stopwords"
   ]
  },
  {
   "cell_type": "code",
   "execution_count": 4,
   "id": "f6687872",
   "metadata": {},
   "outputs": [
    {
     "name": "stdout",
     "output_type": "stream",
     "text": [
      "\n",
      " Preparation du  dataset\n",
      "--------------------------------------------------\n"
     ]
    }
   ],
   "source": [
    "print('\\n Preparation du  dataset')\n",
    "print(\"-\"*50)"
   ]
  },
  {
   "cell_type": "markdown",
   "id": "6b05131d",
   "metadata": {},
   "source": [
    "### Préparation des datasets"
   ]
  },
  {
   "cell_type": "code",
   "execution_count": 5,
   "id": "eab620f8",
   "metadata": {},
   "outputs": [],
   "source": [
    "critiques_positives = [\n",
    "    \"Le film de Harry Potter est vraiment très intéressant\", \n",
    "    \"Ce film est absolument fantastique\",\n",
    "    \"J'ai adoré ce film, il est incroyable\",\n",
    "    \"Un chef-d'œuvre du cinéma moderne\",\n",
    "    \"Une performance exceptionnelle des acteurs\",\n",
    "    \"Une histoire captivante et bien racontée\",\n",
    "    \"Des effets spéciaux époustouflants\",\n",
    "    \"Une bande sonore magnifique qui complète parfaitement le film\",\n",
    "    \"Un film qui m'a profondément touché\",\n",
    "    \"Une réalisation brillante et une direction artistique impeccable\",\n",
    "    \"Un film qui m'a fait rire aux éclats\",\n",
    "    \"Une intrigue pleine de suspense qui m'a tenu en haleine du début à la fin\",\n",
    "    \"Des personnages bien développés et attachants\",\n",
    "    \"Un film qui m'a fait réfléchir sur des questions importantes\",\n",
    "    \"Une atmosphère immersive qui m'a transporté dans un autre monde\",\n",
    "    \"Un film qui m'a ému aux larmes\",\n",
    "    \"Une comédie hilarante qui m'a fait oublier mes soucis\",\n",
    "    \"Un film d'action palpitant avec des scènes de combat impressionnantes\",\n",
    "    \"Une romance touchante qui m'a fait croire à l'amour véritable\",\n",
    "    \"Un film d'animation magnifique avec des visuels époustouflants\"\n",
    "    \n",
    "]"
   ]
  },
  {
   "cell_type": "code",
   "execution_count": 6,
   "id": "1c640ec1",
   "metadata": {},
   "outputs": [],
   "source": [
    "critiques_negatives = [\n",
    "    \"Ce film est ennuyeux et prévisible\",\n",
    "    \"Je n'ai pas du tout aimé ce film, il était terrible\",\n",
    "    \"Un échec total du cinéma moderne\",\n",
    "    \"Une performance médiocre des acteurs\",\n",
    "    \"Une histoire mal racontée et peu captivante\",\n",
    "    \"Des effets spéciaux décevants\",\n",
    "    \"Une bande sonore qui ne correspondait pas du tout au film\",\n",
    "    \"Un film qui m'a profondément ennuyé\",\n",
    "    \"Une réalisation bâclée et une direction artistique douteuse\",\n",
    "    \"Un film qui m'a fait pleurer de frustration\",\n",
    "    \"Une intrigue confuse qui m'a perdu dès le début\",\n",
    "    \"Des personnages mal développés et peu attachants\",\n",
    "    \"Un film qui m'a fait perdre mon temps\",\n",
    "    \"Une atmosphère terne qui ne m'a pas du tout transporté\",\n",
    "    \"Un film qui m'a laissé indifférent\",\n",
    "    \"Une comédie ratée qui n'a pas réussi à me faire sourire\",\n",
    "    \"Un film d'action ennuyeux avec des scènes de combat peu impressionnantes\",\n",
    "    \"Une romance clichée qui m'a fait douter de l'amour véritable\",\n",
    "    \"Un film d'animation décevant avec des visuels peu inspirés\"\n",
    "]"
   ]
  },
  {
   "cell_type": "code",
   "execution_count": 8,
   "id": "eda47767",
   "metadata": {},
   "outputs": [
    {
     "name": "stdout",
     "output_type": "stream",
     "text": [
      "Nombre total de critiques : 39\n",
      "Distribution des classes :\n",
      "label\n",
      "positive    20\n",
      "negative    19\n",
      "Name: count, dtype: int64\n",
      "\n",
      " Preprocessing des textes\n",
      "--------------------------------------------------\n",
      "\n",
      "Exemple de texte avant et après prétraitement :\n",
      "Avant : Le film de Harry Potter est vraiment très intéressant\n",
      "Après : le film de harry potter est vraiment trs intressant\n"
     ]
    }
   ],
   "source": [
    "# Création du DataFrame\n",
    "data = []\n",
    "\n",
    "# ajout des critiques positives\n",
    "for review in critiques_positives:\n",
    "    data.append({'review': review, 'sentiment': 1, 'label': 'positive'})\n",
    "\n",
    "# ajout des critiques négatives\n",
    "for review in critiques_negatives:\n",
    "    data.append({'review': review, 'sentiment': 0, 'label': 'negative'})\n",
    "\n",
    "# Création du DataFrame\n",
    "df = pd.DataFrame(data)\n",
    "print(f\"Nombre total de critiques : {len(df)}\")\n",
    "print(\"Distribution des classes :\")\n",
    "print(df['label'].value_counts())\n",
    "\n",
    "# Préprocessing des textes\n",
    "print('\\n Preprocessing des textes')\n",
    "print(\"-\"*50)\n",
    "def preprocess_text(text):\n",
    "    \"\"\"Fonction de prétraitement du texte  \"\"\"\n",
    "    # Conversion en minuscules\n",
    "    text = text.lower()\n",
    "    # Suppression des caractères spéciaux et des chiffres\n",
    "    text = re.sub(r'[^a-zA-Z\\s]', '', text)\n",
    "    # Suppression des espaces supplémentaires\n",
    "    text = re.sub(r'\\s+', ' ', text).strip()\n",
    "    return text\n",
    "# Application du prétraitement\n",
    "df['text_processed'] = df['review'].apply(preprocess_text)\n",
    "\n",
    "# Exemple de texte avant et après prétraitement\n",
    "print(\"\\nExemple de texte avant et après prétraitement :\")\n",
    "print(\"Avant :\", df['review'].iloc[0])\n",
    "print(\"Après :\", df['text_processed'].iloc[0])\n",
    "\n"
   ]
  },
  {
   "cell_type": "markdown",
   "id": "cc5a9280",
   "metadata": {},
   "source": [
    "### Vectorisation avec TF-IDF"
   ]
  },
  {
   "cell_type": "code",
   "execution_count": 9,
   "id": "14ab424b",
   "metadata": {},
   "outputs": [
    {
     "name": "stdout",
     "output_type": "stream",
     "text": [
      "\n",
      " Vectorisation avec TF-IDF\n",
      "--------------------------------------------------\n",
      "Nombre de critiques dans l'ensemble d'entraînement : 27\n",
      "Nombre de critiques dans l'ensemble de test : 12\n"
     ]
    }
   ],
   "source": [
    "print('\\n Vectorisation avec TF-IDF')\n",
    "print(\"-\"*50)\n",
    "# Définir les mots vides (stopwords) en français\n",
    "stop_words_fr = set(stopwords.words('french'))\n",
    "\n",
    "# Configuration du vectoriseur TF-IDF\n",
    "vectoriseur = TfidfVectorizer(\n",
    "    max_features=5000,  # Limite le nombre de caractéristiques\n",
    "    stop_words=list(stop_words_fr),  # Supprime les mots vides en français\n",
    "    ngram_range=(1, 2),  # Utilise des unigrammes et des bigrammes\n",
    "    min_df=1,  # Ignore les termes qui apparaissent dans moins de 1 document\n",
    "    max_df=0.8  # Ignore les termes qui apparaissent dans plus de 90% des documents\n",
    ")\n",
    "\n",
    "# Séparation des données en ensembles d'entraînement et de test\n",
    "x = df['text_processed']\n",
    "y = df['sentiment']\n",
    "x_train, x_test, y_train, y_test = train_test_split(\n",
    "    x, y, test_size=0.3, random_state=42, stratify=y # Assure une répartition équilibrée des classes dans les ensembles\n",
    "    )                                                # Stratify pour maintenir la proportion des classes\n",
    "                                                    #random_state pour la reproductibilité des résultats \n",
    "                                                    # x, y : les données et les étiquettes\n",
    "                                                    # test_size : la proportion des données à utiliser pour le test\n",
    "                                                    \n",
    "print(f\"Nombre de critiques dans l'ensemble d'entraînement : {len(x_train)}\")\n",
    "print(f\"Nombre de critiques dans l'ensemble de test : {len(x_test)}\")"
   ]
  },
  {
   "cell_type": "code",
   "execution_count": 10,
   "id": "38c0e5b7",
   "metadata": {},
   "outputs": [
    {
     "name": "stdout",
     "output_type": "stream",
     "text": [
      "Nombre de caractéristiques après vectorisation : (27, 171)\n"
     ]
    }
   ],
   "source": [
    "# Vectorisation des données\n",
    "x_train_tfidf = vectoriseur.fit_transform(x_train)\n",
    "x_test_tfidf = vectoriseur.transform(x_test)\n",
    "\n",
    "print(f\"Nombre de caractéristiques après vectorisation : {x_train_tfidf.shape}\")"
   ]
  },
  {
   "cell_type": "markdown",
   "id": "3c0e2975",
   "metadata": {},
   "source": [
    "### Afficher les mots les plus importants"
   ]
  },
  {
   "cell_type": "code",
   "execution_count": 11,
   "id": "79797bba",
   "metadata": {},
   "outputs": [
    {
     "name": "stdout",
     "output_type": "stream",
     "text": [
      "Exemple de données extraites : {feature_names[:10]}\n"
     ]
    }
   ],
   "source": [
    "# Afficher les mots les plus importants\n",
    "feature_names = vectoriseur.get_feature_names_out()\n",
    "print(\"Exemple de données extraites : {feature_names[:10]}\")"
   ]
  },
  {
   "cell_type": "markdown",
   "id": "63b4196f",
   "metadata": {},
   "source": [
    "### Afficher les mots les plus fréquents dans les critiques positives et négatives"
   ]
  },
  {
   "cell_type": "code",
   "execution_count": 12,
   "id": "054929a1",
   "metadata": {},
   "outputs": [
    {
     "name": "stdout",
     "output_type": "stream",
     "text": [
      "\n",
      "Mots les plus fréquents dans les critiques positives :\n",
      "film: 1.2032\n",
      "fait: 0.7997\n",
      "poustouflants: 0.7668\n",
      "bien: 0.6991\n",
      "film fait: 0.6459\n",
      "magnifique: 0.6114\n",
      "spciaux poustouflants: 0.4904\n",
      "film mu: 0.4846\n",
      "larmes: 0.4846\n",
      "mu: 0.4846\n",
      "\n",
      "Mots les plus fréquents dans les critiques négatives :\n",
      "film: 0.9459\n",
      "peu: 0.7881\n",
      "ennuyeux: 0.7014\n",
      "tout: 0.6324\n",
      "fait: 0.5160\n",
      "ennuyeux prvisible: 0.4971\n",
      "film ennuyeux: 0.4971\n",
      "prvisible: 0.4971\n",
      "dcevants: 0.4784\n",
      "spciaux dcevants: 0.4784\n"
     ]
    }
   ],
   "source": [
    "# Afficher les mots les plus fréquents dans les critiques positives et négatives\n",
    "feature_names = vectoriseur.get_feature_names_out() # Récupère les noms des caractéristiques\n",
    "tfidf_scores = x_train_tfidf.toarray() # Convertit la matrice sparse en tableau dense\n",
    "labels = y_train.values # Récupère les étiquettes des critiques d'entraînement\n",
    "counter_pos = Counter() # Compteur pour les mots dans les critiques positives\n",
    "counter_neg = Counter() # Compteur pour les mots dans les critiques négatives\n",
    "\n",
    "for i, label in enumerate(labels): # Parcourt chaque critique et son étiquette\n",
    "    if label == 1: # Si la critique est positive\n",
    "        counter_pos.update(dict(zip(feature_names, tfidf_scores[i]))) # Met à jour le compteur des mots positifs\n",
    "    else: # Si la critique est négative\n",
    "        counter_neg.update(dict(zip(feature_names, tfidf_scores[i]))) # Met à jour le compteur des mots négatifs\n",
    "\n",
    "most_common_pos = counter_pos.most_common(10) # Récupère les 10 mots les plus fréquents dans les critiques positives\n",
    "most_common_neg = counter_neg.most_common(10) # Récupère les 10 mots les plus fréquents dans les critiques négatives\n",
    "\n",
    "print(\"\\nMots les plus fréquents dans les critiques positives :\")\n",
    "for word, score in most_common_pos: # Affiche chaque mot et son score TF-IDF\n",
    "    print(f\"{word}: {score:.4f}\") # Formatage pour afficher 4 décimales\n",
    "\n",
    "print(\"\\nMots les plus fréquents dans les critiques négatives :\") \n",
    "for word, score in most_common_neg: # Affiche chaque mot et son score TF-IDF\n",
    "    print(f\"{word}: {score:.4f}\") # Formatage pour afficher 4 décimales\n",
    "\n"
   ]
  },
  {
   "cell_type": "markdown",
   "id": "36786ccb",
   "metadata": {},
   "source": [
    "### Entrainement du modele NAIVE BAYES"
   ]
  },
  {
   "cell_type": "code",
   "execution_count": 13,
   "id": "093498c8",
   "metadata": {},
   "outputs": [
    {
     "name": "stdout",
     "output_type": "stream",
     "text": [
      "Entrainement du modele NAIVE BAYES\n",
      "--------------------------------------------------\n",
      "Modèle entraîné avec succès.\n"
     ]
    }
   ],
   "source": [
    "print(\"Entrainement du modele NAIVE BAYES\")\n",
    "print(\"-\"*50)\n",
    "\n",
    "# Création et entraînement du modèle Naive Bayes\n",
    "nb_classifier = MultinomialNB(alpha=1.0) # Utilise le classifieur Naive Bayes multinomial avec un lissage de Laplace (aplha=1.0) => paramètre de lissage pour gérer les mots non vus\n",
    "nb_classifier.fit(x_train_tfidf, y_train) # Entraîne le modèle sur les données vectorisées d'entraînement et les étiquettes correspondantes\n",
    "print(\"Modèle entraîné avec succès.\")"
   ]
  },
  {
   "cell_type": "code",
   "execution_count": 14,
   "id": "b99e4055",
   "metadata": {},
   "outputs": [],
   "source": [
    "# Faire les prédictions sur l'ensemble de test\n",
    "y_pred = nb_classifier.predict(x_test_tfidf) # Prédictions des étiquettes pour les données de test\n",
    "y_pred_prob = nb_classifier.predict_proba(x_test_tfidf) # Probabilités associées aux prédictions"
   ]
  },
  {
   "cell_type": "markdown",
   "id": "78d12df5",
   "metadata": {},
   "source": [
    "### Evaluation du modele"
   ]
  },
  {
   "cell_type": "code",
   "execution_count": 15,
   "id": "b70a75a1",
   "metadata": {},
   "outputs": [
    {
     "name": "stdout",
     "output_type": "stream",
     "text": [
      "\n",
      " Evaluation du modele\n",
      "--------------------------------------------------\n",
      "Exactitude (Accuracy) : 0.3333\n",
      "\n",
      "Rapport de classification :\n",
      "               precision    recall  f1-score   support\n",
      "\n",
      "    negative       0.00      0.00      0.00         6\n",
      "    positive       0.40      0.67      0.50         6\n",
      "\n",
      "    accuracy                           0.33        12\n",
      "   macro avg       0.20      0.33      0.25        12\n",
      "weighted avg       0.20      0.33      0.25        12\n",
      "\n"
     ]
    }
   ],
   "source": [
    "print('\\n Evaluation du modele')\n",
    "print(\"-\"*50)\n",
    "\n",
    "# Évaluation du modèle\n",
    "accuracy = accuracy_score(y_test, y_pred)\n",
    "print(f\"Exactitude (Accuracy) : {accuracy:.4f}\") # Affiche l'exactitude du modèle avec 4 décimales\n",
    "\n",
    "# Rapport de classification détaillé\n",
    "report = classification_report(y_test, y_pred, target_names=['negative', 'positive'])\n",
    "print(\"\\nRapport de classification :\\n\", report)"
   ]
  },
  {
   "cell_type": "code",
   "execution_count": 16,
   "id": "c4d362c1",
   "metadata": {},
   "outputs": [
    {
     "name": "stdout",
     "output_type": "stream",
     "text": [
      "Matrice de confusion : \n",
      "[[0 6]\n",
      " [2 4]]\n"
     ]
    }
   ],
   "source": [
    "# Matrice de confusion\n",
    "conf_matrix = confusion_matrix(y_test, y_pred) # Calcule la matrice de confusion\n",
    "print(\"Matrice de confusion : \") \n",
    "print(conf_matrix)"
   ]
  },
  {
   "cell_type": "markdown",
   "id": "1930ff80",
   "metadata": {},
   "source": [
    "### Analyse des features importants"
   ]
  },
  {
   "cell_type": "code",
   "execution_count": 17,
   "id": "b0274bbb",
   "metadata": {},
   "outputs": [
    {
     "name": "stdout",
     "output_type": "stream",
     "text": [
      "\n",
      " Analyse des features importants\n",
      "--------------------------------------------------\n",
      "\n",
      "Top 10 mots les plus indicatifs pour la classe positive :\n",
      "film: -4.5501\n",
      "fait: -4.7524\n",
      "poustouflants: -4.7709\n",
      "bien: -4.8100\n",
      "film fait: -4.8417\n",
      "magnifique: -4.8630\n",
      "spciaux poustouflants: -4.9410\n",
      "mu larmes: -4.9449\n",
      "mu: -4.9449\n",
      "film mu: -4.9449\n",
      "\n",
      "--------------------------------------------------\n",
      "\n",
      "Top 10 mots les plus indicatifs pour la classe négative :\n",
      "film: -4.6730\n",
      "peu: -4.7576\n",
      "ennuyeux: -4.8073\n",
      "tout: -4.8487\n",
      "fait: -4.9227\n",
      "film ennuyeux: -4.9352\n",
      "ennuyeux prvisible: -4.9352\n",
      "prvisible: -4.9352\n",
      "dcevants: -4.9478\n",
      "spciaux dcevants: -4.9478\n"
     ]
    }
   ],
   "source": [
    "print('\\n Analyse des features importants')\n",
    "print(\"-\"*50)\n",
    "\n",
    "# Obteneir les coefficients pour chaque classe \n",
    "feature_importances = nb_classifier.feature_log_prob_  # feature_log_prob_ : Probabilités logarithmiques des caractéristiques pour chaque classe\n",
    "feature_names = vectoriseur.get_feature_names_out() # Récupère les noms des caractéristiques\n",
    "\n",
    "# Afficher les 10 mots les plus indicatifs pour chaque classe\n",
    "top_n = 10\n",
    "\n",
    "# pour la classe positive (1)\n",
    "top_positive_indices = np.argsort(feature_importances[1])[-top_n:][::-1] # Indices des 10 mots les plus indicatifs pour la classe positive\n",
    "print(f\"\\nTop {top_n} mots les plus indicatifs pour la classe positive :\")\n",
    "for idx in top_positive_indices:\n",
    "    print(f\"{feature_names[idx]}: {feature_importances[1][idx]:.4f}\") # Affiche chaque mot et son importance\n",
    "\n",
    "print(\"\\n\" + \"-\"*50)\n",
    "# pour la classe négative (0)\n",
    "top_negative_indices = np.argsort(feature_importances[0])[-top_n:][::-1] # Indices des 10 mots les plus indicatifs pour la classe négative\n",
    "print(f\"\\nTop {top_n} mots les plus indicatifs pour la classe négative :\")\n",
    "for idx in top_negative_indices:\n",
    "    print(f\"{feature_names[idx]}: {feature_importances[0][idx]:.4f}\") # Affiche chaque mot et son importance"
   ]
  },
  {
   "cell_type": "markdown",
   "id": "51ff1a54",
   "metadata": {},
   "source": [
    "### Prédiction des sentiments"
   ]
  },
  {
   "cell_type": "code",
   "execution_count": 18,
   "id": "c8233f4a",
   "metadata": {},
   "outputs": [
    {
     "name": "stdout",
     "output_type": "stream",
     "text": [
      "\n",
      " Prédiction des sentiments\n",
      "--------------------------------------------------\n"
     ]
    }
   ],
   "source": [
    "print('\\n Prédiction des sentiments')\n",
    "print(\"-\"*50)"
   ]
  },
  {
   "cell_type": "code",
   "execution_count": 19,
   "id": "8f9d1040",
   "metadata": {},
   "outputs": [],
   "source": [
    "def predict_sentiment(texte, modele, vectoriseur):\n",
    "    \"\"\"Fonction pour prédire le sentiment d'un texte donné\"\"\"\n",
    "    texte_preprocessed = preprocess_text(texte) # Prétraitement du texte\n",
    "    texte_tdidf = vectoriseur.transform([texte_preprocessed]) # Vectorisation du texte prétraité\n",
    "    prediction = modele.predict(texte_tdidf)[0] # Prédiction de l'étiquette\n",
    "    prediction_prob = modele.predict_proba(texte_tdidf)[0] # Probabilités associées à la prédiction\n",
    "    \n",
    "    sentiment = 'positive' if prediction == 1 else 'negative' # Conversion de l'étiquette en texte\n",
    "    confidence = max(prediction_prob) # Confiance de la prédiction\n",
    "    return sentiment, confidence # Retourne le sentiment prédit et la confiance associée"
   ]
  },
  {
   "cell_type": "code",
   "execution_count": 20,
   "id": "c1cdcd75",
   "metadata": {},
   "outputs": [],
   "source": [
    "# Tests sur de nouvelles critiques\n",
    "test_texts = [\n",
    "    \"J'ai adoré ce film, c'était fantastique et captivant!\",\n",
    "    \"Ce film était ennuyeux et prévisible, je ne le recommande pas.\",\n",
    "    \"Une performance exceptionnelle des acteurs, j'ai été impressionné.\",\n",
    "    \"L'intrigue était confuse et les personnages peu développés.\",\n",
    "    \"Des effets spéciaux époustouflants, un vrai régal pour les yeux.\",\n",
    "    \"Je me suis endormi pendant le film, il n'avait aucun intérêt.\", \n",
    "    \"Un film absolument merveilleux, j'ai été transporté du début à la fin.\",\n",
    "    \"Le scénario était faible et les dialogues étaient mal écrits.\",\n",
    "    \"Une expérience cinématographique inoubliable, je le recommande vivement.\",\n",
    "    \"Les personnages étaient superficiels et l'intrigue manquait de profondeur.\"\n",
    "]"
   ]
  },
  {
   "cell_type": "code",
   "execution_count": 21,
   "id": "542a3c06",
   "metadata": {},
   "outputs": [
    {
     "name": "stdout",
     "output_type": "stream",
     "text": [
      "Texte : J'ai adoré ce film, c'était fantastique et captivant!\n",
      "Sentiment prédit : positive (Confiance : 0.6800)\n",
      "\n",
      "\n",
      "Texte : Ce film était ennuyeux et prévisible, je ne le recommande pas.\n",
      "Sentiment prédit : negative (Confiance : 0.6714)\n",
      "\n",
      "\n",
      "Texte : Une performance exceptionnelle des acteurs, j'ai été impressionné.\n",
      "Sentiment prédit : positive (Confiance : 0.6683)\n",
      "\n",
      "\n",
      "Texte : L'intrigue était confuse et les personnages peu développés.\n",
      "Sentiment prédit : negative (Confiance : 0.5768)\n",
      "\n",
      "\n",
      "Texte : Des effets spéciaux époustouflants, un vrai régal pour les yeux.\n",
      "Sentiment prédit : positive (Confiance : 0.6282)\n",
      "\n",
      "\n",
      "Texte : Je me suis endormi pendant le film, il n'avait aucun intérêt.\n",
      "Sentiment prédit : positive (Confiance : 0.5491)\n",
      "\n",
      "\n",
      "Texte : Un film absolument merveilleux, j'ai été transporté du début à la fin.\n",
      "Sentiment prédit : positive (Confiance : 0.5813)\n",
      "\n",
      "\n",
      "Texte : Le scénario était faible et les dialogues étaient mal écrits.\n",
      "Sentiment prédit : negative (Confiance : 0.5831)\n",
      "\n",
      "\n",
      "Texte : Une expérience cinématographique inoubliable, je le recommande vivement.\n",
      "Sentiment prédit : positive (Confiance : 0.5185)\n",
      "\n",
      "\n",
      "Texte : Les personnages étaient superficiels et l'intrigue manquait de profondeur.\n",
      "Sentiment prédit : positive (Confiance : 0.5265)\n",
      "\n",
      "\n"
     ]
    }
   ],
   "source": [
    "# prédictions pour les nouvelles critiques\n",
    "for text in test_texts:\n",
    "    sentiment, confidence = predict_sentiment(text, nb_classifier, vectoriseur)\n",
    "    print(f\"Texte : {text}\\nSentiment prédit : {sentiment} (Confiance : {confidence:.4f})\\n\")\n",
    "    print()"
   ]
  },
  {
   "cell_type": "code",
   "execution_count": 22,
   "id": "9bc2e611",
   "metadata": {},
   "outputs": [
    {
     "data": {
      "image/png": "[encoded data removed]",
      "text/plain": [
       "<Figure size 600x400 with 2 Axes>"
      ]
     },
     "metadata": {},
     "output_type": "display_data"
    }
   ],
   "source": [
    "# Matrice de confusion déjà calculée : conf_matrix\n",
    "plt.figure(figsize=(6, 4))\n",
    "sns.heatmap(conf_matrix, annot=True, fmt='d', cmap='Blues', xticklabels=['Négatif', 'Positif'], yticklabels=['Négatif', 'Positif'])\n",
    "plt.title(\"Matrice de confusion\")\n",
    "plt.xlabel(\"Prédiction\")\n",
    "plt.ylabel(\"Vérité\")\n",
    "plt.show()"
   ]
  },
  {
   "cell_type": "code",
   "execution_count": 23,
   "id": "74531b1a",
   "metadata": {},
   "outputs": [
    {
     "name": "stderr",
     "output_type": "stream",
     "text": [
      "/tmp/ipykernel_13750/1785125491.py:6: FutureWarning: \n",
      "\n",
      "Passing `palette` without assigning `hue` is deprecated and will be removed in v0.14.0. Assign the `y` variable to `hue` and set `legend=False` for the same effect.\n",
      "\n",
      "  sns.barplot(x=top_scores, y=top_words, palette=\"Greens_r\")\n"
     ]
    },
    {
     "data": {
      "image/png": "[encoded data removed]",
      "text/plain": [
       "<Figure size 800x400 with 1 Axes>"
      ]
     },
     "metadata": {},
     "output_type": "display_data"
    }
   ],
   "source": [
    "# Pour la classe positive\n",
    "top_words = [feature_names[idx] for idx in top_positive_indices]\n",
    "top_scores = [feature_importances[1][idx] for idx in top_positive_indices]\n",
    "\n",
    "plt.figure(figsize=(8, 4))\n",
    "sns.barplot(x=top_scores, y=top_words, palette=\"Greens_r\")\n",
    "plt.title(\"Top mots indicatifs (classe positive)\")\n",
    "plt.xlabel(\"Score log-probabilité\")\n",
    "plt.ylabel(\"Mot\")\n",
    "plt.show()"
   ]
  },
  {
   "cell_type": "code",
   "execution_count": 27,
   "id": "c340b7f4",
   "metadata": {},
   "outputs": [
    {
     "name": "stderr",
     "output_type": "stream",
     "text": [
      "/tmp/ipykernel_13750/314412988.py:6: FutureWarning: \n",
      "\n",
      "Passing `palette` without assigning `hue` is deprecated and will be removed in v0.14.0. Assign the `y` variable to `hue` and set `legend=False` for the same effect.\n",
      "\n",
      "  sns.barplot(x=top_scores, y=top_words, palette=\"Greens_r\")\n"
     ]
    },
    {
     "data": {
      "image/png": "[encoded data removed]",
      "text/plain": [
       "<Figure size 800x400 with 1 Axes>"
      ]
     },
     "metadata": {},
     "output_type": "display_data"
    }
   ],
   "source": [
    "# Pour la classe négative\n",
    "top_words = [feature_names[idx] for idx in top_negative_indices]\n",
    "top_scores = [feature_importances[1][idx] for idx in top_negative_indices]\n",
    "\n",
    "plt.figure(figsize=(8, 4))\n",
    "sns.barplot(x=top_scores, y=top_words, palette=\"Greens_r\")\n",
    "plt.title(\"Top mots indicatifs (classe négative)\")\n",
    "plt.xlabel(\"Score log-probabilité\")\n",
    "plt.ylabel(\"Mot\")\n",
    "plt.show()"
   ]
  },
  {
   "cell_type": "code",
   "execution_count": 24,
   "id": "3749cea0",
   "metadata": {},
   "outputs": [
    {
     "data": {
      "image/png": "[encoded data removed]",
      "text/plain": [
       "<Figure size 600x400 with 1 Axes>"
      ]
     },
     "metadata": {},
     "output_type": "display_data"
    }
   ],
   "source": [
    "plt.figure(figsize=(6, 4))\n",
    "plt.hist(y_pred_prob.max(axis=1), bins=10, color='skyblue')\n",
    "plt.title(\"Distribution des probabilités de prédiction\")\n",
    "plt.xlabel(\"Confiance de la prédiction\")\n",
    "plt.ylabel(\"Nombre de critiques\")\n",
    "plt.show()"
   ]
  }
 ],
 "metadata": {
  "kernelspec": {
   "display_name": "env",
   "language": "python",
   "name": "python3"
  },
  "language_info": {
   "codemirror_mode": {
    "name": "ipython",
    "version": 3
   },
   "file_extension": ".py",
   "mimetype": "text/x-python",
   "name": "python",
   "nbconvert_exporter": "python",
   "pygments_lexer": "ipython3",
   "version": "3.12.3"
  }
 },
 "nbformat": 4,
 "nbformat_minor": 5
}
